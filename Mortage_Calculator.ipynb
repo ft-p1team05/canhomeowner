{
 "cells": [
  {
   "cell_type": "code",
   "execution_count": 23,
   "id": "be19fb12-b8aa-4493-b153-5f0612b35f9d",
   "metadata": {},
   "outputs": [
    {
     "name": "stdin",
     "output_type": "stream",
     "text": [
      "Enter the loan amount:  5000000000000\n",
      "Enter the annual interest rate (as a decimal):  3.6\n",
      "Enter the loan term in years:  20\n",
      "Enter your monthly debt payments:  10000\n",
      "Enter your gross annual income:  92000\n",
      "Enter your credit score:  787\n",
      "Enter the monthly rent price:  5000\n"
     ]
    },
    {
     "name": "stdout",
     "output_type": "stream",
     "text": [
      "I am sorry, but based on your income, credit score and the loan amount, you do not qualify for this loan but you can rent for $5000.0 dollars.\n"
     ]
    }
   ],
   "source": [
    "import math\n",
    "\n",
    "def mortgage_affordability(principal, interest_rate, term, monthly_debt_payments, gross_income, credit_score, rent_price):\n",
    "    # calculate the monthly interest rate\n",
    "    monthly_rate = interest_rate / 12\n",
    "    # calculate the number of payments\n",
    "    payments = term * 12\n",
    "    # calculate the monthly mortgage payment\n",
    "    monthly_mortgage_payment = principal * (monthly_rate * math.pow(1 + monthly_rate, payments)) / (math.pow(1 + monthly_rate, payments) - 1)\n",
    "    # calculate the total monthly debt payments\n",
    "    total_monthly_debt_payments = monthly_debt_payments + monthly_mortgage_payment\n",
    "    # calculate the debt-to-income ratio\n",
    "    dti = total_monthly_debt_payments / (gross_income/12)\n",
    "    # check if the dti ratio is less than 43% and credit score is above a certain threshold\n",
    "    if dti < 0.43 and credit_score >= 700:\n",
    "        return f\"Congratulations! You can afford a mortgage of ${principal}.\"\n",
    "    else:\n",
    "        return f\"I am sorry, but based on your income, credit score and the loan amount, you do not qualify for this loan but you can rent for ${rent_price} dollars.\"\n",
    "\n",
    "# Input variables\n",
    "principal = float(input(\"Enter the loan amount: \"))\n",
    "interest_rate = float(input(\"Enter the annual interest rate (as a decimal): \"))\n",
    "term = int(input(\"Enter the loan term in years: \"))\n",
    "monthly_debt_payments = float(input(\"Enter your monthly debt payments: \"))\n",
    "gross_income = float(input(\"Enter your gross annual income: \"))\n",
    "credit_score = int(input(\"Enter your credit score: \"))\n",
    "rent_price = float(input(\"Enter the monthly rent price: \"))\n",
    "\n",
    "# Call the function\n",
    "result = mortgage_affordability(principal, interest_rate, term, monthly_debt_payments, gross_income, credit_score, rent_price)\n",
    "\n",
    "# Print the result\n",
    "print(result)"
   ]
  },
  {
   "cell_type": "code",
   "execution_count": null,
   "id": "9e5f1ac5-9caa-4f2f-b5a4-9f3f3f3e9eb9",
   "metadata": {},
   "outputs": [],
   "source": [
    "import pandas as pd\n",
    "import matplotlib.pyplot as plt\n",
    "\n",
    "# Read the data from the CSV file hosted on blob storage\n",
    "url = \"https://wowa.ca/7c506a45-206c-4d29-b0a1-43265b442e6a\"\n",
    "df = pd.read_csv(url, index_col=0)\n",
    "\n",
    "# Filter the data to include only the years from 2012 to 2022\n",
    "df = df[(df.index >= '2012-01-01') & (df.index <= '2022-12-31')]\n",
    "\n",
    "# Plot the interest rates\n",
    "df.plot(kind='line', y='Prime Rate')\n",
    "plt.xlabel('Year')\n",
    "plt.ylabel('Prime Rate (%)')\n",
    "plt.title('Canadian Prime Rates (2012-2022)')\n",
    "plt.show()"
   ]
  },
  {
   "cell_type": "code",
   "execution_count": null,
   "id": "864ed8e7-7c84-4baf-a633-a80749703fbc",
   "metadata": {},
   "outputs": [],
   "source": [
    "import matplotlib.pyplot as plt\n",
    "import pandas as pd\n",
    "\n",
    "# Create a dataframe with the interest rate data\n",
    "interest_rate_data = {'Year': [2012, 2013, 2014, 2015, 2016, 2017, 2018, 2019, 2020, 2021, 2022],\n",
    "                     'Interest Rate': [0.75, 1.25, 1.5, 1.75, 2.0, 2.25, 2.5, 2.75, 3.0, 2.5, 0.75]}\n",
    "df = pd.DataFrame(interest_rate_data)\n",
    "\n",
    "# Plot the interest rate data as a bar graph\n",
    "plt.bar(df['Year'], df['Interest Rate'])\n",
    "plt.xlabel('Year')\n",
    "plt.ylabel('Interest Rate (%)')\n",
    "plt.title('Canadian Interest Rates (last 10 years)')\n",
    "plt.show()\n"
   ]
  }
 ],
 "metadata": {
  "kernelspec": {
   "display_name": "Python 3 (ipykernel)",
   "language": "python",
   "name": "python3"
  },
  "language_info": {
   "codemirror_mode": {
    "name": "ipython",
    "version": 3
   },
   "file_extension": ".py",
   "mimetype": "text/x-python",
   "name": "python",
   "nbconvert_exporter": "python",
   "pygments_lexer": "ipython3",
   "version": "3.9.12"
  }
 },
 "nbformat": 4,
 "nbformat_minor": 5
}
