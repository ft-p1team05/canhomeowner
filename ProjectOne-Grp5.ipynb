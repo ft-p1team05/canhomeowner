{
 "cells": [
  {
   "cell_type": "markdown",
   "id": "30cc72c0",
   "metadata": {},
   "source": [
    "# Group 5"
   ]
  },
  {
   "cell_type": "code",
   "execution_count": 1,
   "id": "778c8689-52fb-428a-b84b-1c32f5ed9654",
   "metadata": {},
   "outputs": [],
   "source": [
    "# Import section\n",
    "import pandas as pd\n",
    "import numpy as np\n",
    "import zipfile\n",
    "import requests\n",
    "import seaborn as sns\n",
    "from io import BytesIO"
   ]
  },
  {
   "cell_type": "markdown",
   "id": "9e9c9878-c41f-41d0-a299-2029d6185263",
   "metadata": {},
   "source": [
    "## Section II Kei's code ==start=="
   ]
  },
  {
   "cell_type": "code",
   "execution_count": 2,
   "id": "7d64ef3b-0e24-43d7-b384-ec5dc6fd6f9f",
   "metadata": {},
   "outputs": [],
   "source": [
    "# Provided data source\n",
    "# Historic Canadian Inflation data https://www.bankofcanada.ca/rates/indicators/capacity-and-inflation-pressures/inflation/\n",
    "# Historic Canadian Interest rate data https://www.bankofcanada.ca/rates/interest-rates/canadian-interest-rates/\n",
    "# Historic Canadian Immigration rate data https://www12.statcan.gc.ca/census-recensement/2021/as-sa/fogs-spg/page.cfm?topic=9&lang=E&dguid=2021A000011124"
   ]
  },
  {
   "cell_type": "markdown",
   "id": "1b0301e5-90c0-4761-b358-510265eea48e",
   "metadata": {},
   "source": [
    "## These datasets are not currently used\n",
    "#TODO:Delete if unused"
   ]
  },
  {
   "cell_type": "code",
   "execution_count": 3,
   "id": "6f8b387d-67ba-4b64-879d-894068fdfe0c",
   "metadata": {},
   "outputs": [
    {
     "name": "stderr",
     "output_type": "stream",
     "text": [
      "C:\\Users\\romai\\AppData\\Local\\Temp\\ipykernel_20940\\965734646.py:10: DtypeWarning: Columns (14) have mixed types. Specify dtype option on import or set low_memory=False.\n",
      "  rental_rates_df = pd.read_csv(csv_file_opened, header=0, sep=',', quotechar='\"')\n"
     ]
    },
    {
     "ename": "KeyboardInterrupt",
     "evalue": "",
     "output_type": "error",
     "traceback": [
      "\u001b[1;31m---------------------------------------------------------------------------\u001b[0m",
      "\u001b[1;31mKeyboardInterrupt\u001b[0m                         Traceback (most recent call last)",
      "File \u001b[1;32m~\\anaconda3\\lib\\site-packages\\pandas\\io\\parsers\\readers.py:581\u001b[0m, in \u001b[0;36m_read\u001b[1;34m(filepath_or_buffer, kwds)\u001b[0m\n\u001b[0;32m    580\u001b[0m \u001b[38;5;28;01mwith\u001b[39;00m parser:\n\u001b[1;32m--> 581\u001b[0m     \u001b[38;5;28;01mreturn\u001b[39;00m \u001b[43mparser\u001b[49m\u001b[38;5;241;43m.\u001b[39;49m\u001b[43mread\u001b[49m\u001b[43m(\u001b[49m\u001b[43mnrows\u001b[49m\u001b[43m)\u001b[49m\n",
      "File \u001b[1;32m~\\anaconda3\\lib\\site-packages\\pandas\\io\\parsers\\readers.py:1254\u001b[0m, in \u001b[0;36mTextFileReader.read\u001b[1;34m(self, nrows)\u001b[0m\n\u001b[0;32m   1253\u001b[0m \u001b[38;5;28;01mtry\u001b[39;00m:\n\u001b[1;32m-> 1254\u001b[0m     index, columns, col_dict \u001b[38;5;241m=\u001b[39m \u001b[38;5;28;43mself\u001b[39;49m\u001b[38;5;241;43m.\u001b[39;49m\u001b[43m_engine\u001b[49m\u001b[38;5;241;43m.\u001b[39;49m\u001b[43mread\u001b[49m\u001b[43m(\u001b[49m\u001b[43mnrows\u001b[49m\u001b[43m)\u001b[49m\n\u001b[0;32m   1255\u001b[0m \u001b[38;5;28;01mexcept\u001b[39;00m \u001b[38;5;167;01mException\u001b[39;00m:\n",
      "File \u001b[1;32m~\\anaconda3\\lib\\site-packages\\pandas\\io\\parsers\\c_parser_wrapper.py:225\u001b[0m, in \u001b[0;36mCParserWrapper.read\u001b[1;34m(self, nrows)\u001b[0m\n\u001b[0;32m    224\u001b[0m \u001b[38;5;28;01mif\u001b[39;00m \u001b[38;5;28mself\u001b[39m\u001b[38;5;241m.\u001b[39mlow_memory:\n\u001b[1;32m--> 225\u001b[0m     chunks \u001b[38;5;241m=\u001b[39m \u001b[38;5;28;43mself\u001b[39;49m\u001b[38;5;241;43m.\u001b[39;49m\u001b[43m_reader\u001b[49m\u001b[38;5;241;43m.\u001b[39;49m\u001b[43mread_low_memory\u001b[49m\u001b[43m(\u001b[49m\u001b[43mnrows\u001b[49m\u001b[43m)\u001b[49m\n\u001b[0;32m    226\u001b[0m     \u001b[38;5;66;03m# destructive to chunks\u001b[39;00m\n",
      "File \u001b[1;32m~\\anaconda3\\lib\\site-packages\\pandas\\_libs\\parsers.pyx:805\u001b[0m, in \u001b[0;36mpandas._libs.parsers.TextReader.read_low_memory\u001b[1;34m()\u001b[0m\n",
      "File \u001b[1;32m~\\anaconda3\\lib\\site-packages\\pandas\\_libs\\parsers.pyx:883\u001b[0m, in \u001b[0;36mpandas._libs.parsers.TextReader._read_rows\u001b[1;34m()\u001b[0m\n",
      "File \u001b[1;32m~\\anaconda3\\lib\\site-packages\\pandas\\_libs\\parsers.pyx:1026\u001b[0m, in \u001b[0;36mpandas._libs.parsers.TextReader._convert_column_data\u001b[1;34m()\u001b[0m\n",
      "File \u001b[1;32m~\\anaconda3\\lib\\site-packages\\pandas\\_libs\\parsers.pyx:1072\u001b[0m, in \u001b[0;36mpandas._libs.parsers.TextReader._convert_tokens\u001b[1;34m()\u001b[0m\n",
      "File \u001b[1;32m~\\anaconda3\\lib\\site-packages\\pandas\\_libs\\parsers.pyx:1147\u001b[0m, in \u001b[0;36mpandas._libs.parsers.TextReader._convert_with_dtype\u001b[1;34m()\u001b[0m\n",
      "File \u001b[1;32m~\\anaconda3\\lib\\site-packages\\pandas\\core\\dtypes\\common.py:1429\u001b[0m, in \u001b[0;36mis_extension_array_dtype\u001b[1;34m(arr_or_dtype)\u001b[0m\n\u001b[0;32m   1424\u001b[0m     \u001b[38;5;28;01mreturn\u001b[39;00m \u001b[38;5;28misinstance\u001b[39m(dtype, ExtensionDtype) \u001b[38;5;129;01mand\u001b[39;00m \u001b[38;5;129;01mnot\u001b[39;00m \u001b[38;5;28misinstance\u001b[39m(\n\u001b[0;32m   1425\u001b[0m         dtype, (DatetimeTZDtype, PeriodDtype)\n\u001b[0;32m   1426\u001b[0m     )\n\u001b[1;32m-> 1429\u001b[0m \u001b[38;5;28;01mdef\u001b[39;00m \u001b[38;5;21mis_extension_array_dtype\u001b[39m(arr_or_dtype) \u001b[38;5;241m-\u001b[39m\u001b[38;5;241m>\u001b[39m \u001b[38;5;28mbool\u001b[39m:\n\u001b[0;32m   1430\u001b[0m     \u001b[38;5;124;03m\"\"\"\u001b[39;00m\n\u001b[0;32m   1431\u001b[0m \u001b[38;5;124;03m    Check if an object is a pandas extension array type.\u001b[39;00m\n\u001b[0;32m   1432\u001b[0m \n\u001b[1;32m   (...)\u001b[0m\n\u001b[0;32m   1472\u001b[0m \u001b[38;5;124;03m    False\u001b[39;00m\n\u001b[0;32m   1473\u001b[0m \u001b[38;5;124;03m    \"\"\"\u001b[39;00m\n",
      "\u001b[1;31mKeyboardInterrupt\u001b[0m: ",
      "\nDuring handling of the above exception, another exception occurred:\n",
      "\u001b[1;31mKeyboardInterrupt\u001b[0m                         Traceback (most recent call last)",
      "Input \u001b[1;32mIn [3]\u001b[0m, in \u001b[0;36m<cell line: 18>\u001b[1;34m()\u001b[0m\n\u001b[0;32m     20\u001b[0m csv_file \u001b[38;5;241m=\u001b[39m \u001b[38;5;124m'\u001b[39m\u001b[38;5;124m46100062.csv\u001b[39m\u001b[38;5;124m'\u001b[39m\n\u001b[0;32m     21\u001b[0m \u001b[38;5;28;01mwith\u001b[39;00m zip_file\u001b[38;5;241m.\u001b[39mopen(csv_file) \u001b[38;5;28;01mas\u001b[39;00m csv_file_opened:\n\u001b[1;32m---> 22\u001b[0m     home_prices_df \u001b[38;5;241m=\u001b[39m \u001b[43mpd\u001b[49m\u001b[38;5;241;43m.\u001b[39;49m\u001b[43mread_csv\u001b[49m\u001b[43m(\u001b[49m\u001b[43mcsv_file_opened\u001b[49m\u001b[43m,\u001b[49m\u001b[43m \u001b[49m\u001b[43mheader\u001b[49m\u001b[38;5;241;43m=\u001b[39;49m\u001b[38;5;241;43m0\u001b[39;49m\u001b[43m,\u001b[49m\u001b[43m \u001b[49m\u001b[43msep\u001b[49m\u001b[38;5;241;43m=\u001b[39;49m\u001b[38;5;124;43m'\u001b[39;49m\u001b[38;5;124;43m,\u001b[39;49m\u001b[38;5;124;43m'\u001b[39;49m\u001b[43m,\u001b[49m\u001b[43m \u001b[49m\u001b[43mquotechar\u001b[49m\u001b[38;5;241;43m=\u001b[39;49m\u001b[38;5;124;43m'\u001b[39;49m\u001b[38;5;124;43m\"\u001b[39;49m\u001b[38;5;124;43m'\u001b[39;49m\u001b[43m)\u001b[49m\n",
      "File \u001b[1;32m~\\anaconda3\\lib\\site-packages\\pandas\\util\\_decorators.py:311\u001b[0m, in \u001b[0;36mdeprecate_nonkeyword_arguments.<locals>.decorate.<locals>.wrapper\u001b[1;34m(*args, **kwargs)\u001b[0m\n\u001b[0;32m    305\u001b[0m \u001b[38;5;28;01mif\u001b[39;00m \u001b[38;5;28mlen\u001b[39m(args) \u001b[38;5;241m>\u001b[39m num_allow_args:\n\u001b[0;32m    306\u001b[0m     warnings\u001b[38;5;241m.\u001b[39mwarn(\n\u001b[0;32m    307\u001b[0m         msg\u001b[38;5;241m.\u001b[39mformat(arguments\u001b[38;5;241m=\u001b[39marguments),\n\u001b[0;32m    308\u001b[0m         \u001b[38;5;167;01mFutureWarning\u001b[39;00m,\n\u001b[0;32m    309\u001b[0m         stacklevel\u001b[38;5;241m=\u001b[39mstacklevel,\n\u001b[0;32m    310\u001b[0m     )\n\u001b[1;32m--> 311\u001b[0m \u001b[38;5;28;01mreturn\u001b[39;00m func(\u001b[38;5;241m*\u001b[39margs, \u001b[38;5;241m*\u001b[39m\u001b[38;5;241m*\u001b[39mkwargs)\n",
      "File \u001b[1;32m~\\anaconda3\\lib\\site-packages\\pandas\\io\\parsers\\readers.py:680\u001b[0m, in \u001b[0;36mread_csv\u001b[1;34m(filepath_or_buffer, sep, delimiter, header, names, index_col, usecols, squeeze, prefix, mangle_dupe_cols, dtype, engine, converters, true_values, false_values, skipinitialspace, skiprows, skipfooter, nrows, na_values, keep_default_na, na_filter, verbose, skip_blank_lines, parse_dates, infer_datetime_format, keep_date_col, date_parser, dayfirst, cache_dates, iterator, chunksize, compression, thousands, decimal, lineterminator, quotechar, quoting, doublequote, escapechar, comment, encoding, encoding_errors, dialect, error_bad_lines, warn_bad_lines, on_bad_lines, delim_whitespace, low_memory, memory_map, float_precision, storage_options)\u001b[0m\n\u001b[0;32m    665\u001b[0m kwds_defaults \u001b[38;5;241m=\u001b[39m _refine_defaults_read(\n\u001b[0;32m    666\u001b[0m     dialect,\n\u001b[0;32m    667\u001b[0m     delimiter,\n\u001b[1;32m   (...)\u001b[0m\n\u001b[0;32m    676\u001b[0m     defaults\u001b[38;5;241m=\u001b[39m{\u001b[38;5;124m\"\u001b[39m\u001b[38;5;124mdelimiter\u001b[39m\u001b[38;5;124m\"\u001b[39m: \u001b[38;5;124m\"\u001b[39m\u001b[38;5;124m,\u001b[39m\u001b[38;5;124m\"\u001b[39m},\n\u001b[0;32m    677\u001b[0m )\n\u001b[0;32m    678\u001b[0m kwds\u001b[38;5;241m.\u001b[39mupdate(kwds_defaults)\n\u001b[1;32m--> 680\u001b[0m \u001b[38;5;28;01mreturn\u001b[39;00m \u001b[43m_read\u001b[49m\u001b[43m(\u001b[49m\u001b[43mfilepath_or_buffer\u001b[49m\u001b[43m,\u001b[49m\u001b[43m \u001b[49m\u001b[43mkwds\u001b[49m\u001b[43m)\u001b[49m\n",
      "File \u001b[1;32m~\\anaconda3\\lib\\site-packages\\pandas\\io\\parsers\\readers.py:581\u001b[0m, in \u001b[0;36m_read\u001b[1;34m(filepath_or_buffer, kwds)\u001b[0m\n\u001b[0;32m    578\u001b[0m     \u001b[38;5;28;01mreturn\u001b[39;00m parser\n\u001b[0;32m    580\u001b[0m \u001b[38;5;28;01mwith\u001b[39;00m parser:\n\u001b[1;32m--> 581\u001b[0m     \u001b[38;5;28;01mreturn\u001b[39;00m parser\u001b[38;5;241m.\u001b[39mread(nrows)\n",
      "File \u001b[1;32m~\\anaconda3\\lib\\site-packages\\pandas\\io\\parsers\\readers.py:1290\u001b[0m, in \u001b[0;36mTextFileReader.__exit__\u001b[1;34m(self, exc_type, exc_value, traceback)\u001b[0m\n\u001b[0;32m   1289\u001b[0m \u001b[38;5;28;01mdef\u001b[39;00m \u001b[38;5;21m__exit__\u001b[39m(\u001b[38;5;28mself\u001b[39m, exc_type, exc_value, traceback):\n\u001b[1;32m-> 1290\u001b[0m     \u001b[38;5;28;43mself\u001b[39;49m\u001b[38;5;241;43m.\u001b[39;49m\u001b[43mclose\u001b[49m\u001b[43m(\u001b[49m\u001b[43m)\u001b[49m\n",
      "File \u001b[1;32m~\\anaconda3\\lib\\site-packages\\pandas\\io\\parsers\\readers.py:938\u001b[0m, in \u001b[0;36mTextFileReader.close\u001b[1;34m(self)\u001b[0m\n\u001b[0;32m    936\u001b[0m \u001b[38;5;28;01mif\u001b[39;00m \u001b[38;5;28mself\u001b[39m\u001b[38;5;241m.\u001b[39mhandles \u001b[38;5;129;01mis\u001b[39;00m \u001b[38;5;129;01mnot\u001b[39;00m \u001b[38;5;28;01mNone\u001b[39;00m:\n\u001b[0;32m    937\u001b[0m     \u001b[38;5;28mself\u001b[39m\u001b[38;5;241m.\u001b[39mhandles\u001b[38;5;241m.\u001b[39mclose()\n\u001b[1;32m--> 938\u001b[0m \u001b[38;5;28;43mself\u001b[39;49m\u001b[38;5;241;43m.\u001b[39;49m\u001b[43m_engine\u001b[49m\u001b[38;5;241;43m.\u001b[39;49m\u001b[43mclose\u001b[49m\u001b[43m(\u001b[49m\u001b[43m)\u001b[49m\n",
      "File \u001b[1;32m~\\anaconda3\\lib\\site-packages\\pandas\\io\\parsers\\c_parser_wrapper.py:190\u001b[0m, in \u001b[0;36mCParserWrapper.close\u001b[1;34m(self)\u001b[0m\n\u001b[0;32m    187\u001b[0m \u001b[38;5;28;01mdef\u001b[39;00m \u001b[38;5;21mclose\u001b[39m(\u001b[38;5;28mself\u001b[39m) \u001b[38;5;241m-\u001b[39m\u001b[38;5;241m>\u001b[39m \u001b[38;5;28;01mNone\u001b[39;00m:\n\u001b[0;32m    188\u001b[0m     \u001b[38;5;66;03m# close handles opened by C parser\u001b[39;00m\n\u001b[0;32m    189\u001b[0m     \u001b[38;5;28;01mtry\u001b[39;00m:\n\u001b[1;32m--> 190\u001b[0m         \u001b[38;5;28mself\u001b[39m\u001b[38;5;241m.\u001b[39m_reader\u001b[38;5;241m.\u001b[39mclose()\n\u001b[0;32m    191\u001b[0m     \u001b[38;5;28;01mexcept\u001b[39;00m \u001b[38;5;167;01mValueError\u001b[39;00m:\n\u001b[0;32m    192\u001b[0m         \u001b[38;5;28;01mpass\u001b[39;00m\n",
      "\u001b[1;31mKeyboardInterrupt\u001b[0m: "
     ]
    }
   ],
   "source": [
    "# Loading data into DataFram \n",
    "result_rental_rates = requests.get(\"https://www150.statcan.gc.ca/n1/tbl/csv/34100133-eng.zip\")\n",
    "result_mortgage_rates = requests.get(\"https://www150.statcan.gc.ca/n1/tbl/csv/10100006-eng.zip\")\n",
    "result_home_prices = requests.get(\"https://www150.statcan.gc.ca/n1/tbl/csv/46100062-eng.zip\")\n",
    "\n",
    "with zipfile.ZipFile(BytesIO(result_rental_rates.content)) as zip_file:\n",
    "    # Extract the file by name\n",
    "    csv_file = '34100133.csv'\n",
    "    with zip_file.open(csv_file) as csv_file_opened:\n",
    "        rental_rates_df = pd.read_csv(csv_file_opened, header=0, sep=',', quotechar='\"')\n",
    "        \n",
    "with zipfile.ZipFile(BytesIO(result_mortgage_rates.content)) as zip_file:\n",
    "    # Extract the file by name\n",
    "    csv_file = '10100006.csv'\n",
    "    with zip_file.open(csv_file) as csv_file_opened:\n",
    "        mortgage_rates_df = pd.read_csv(csv_file_opened, header=0, sep=',', quotechar='\"')\n",
    "        \n",
    "with zipfile.ZipFile(BytesIO(result_home_prices.content)) as zip_file:\n",
    "    # Extract the file by name\n",
    "    csv_file = '46100062.csv'\n",
    "    with zip_file.open(csv_file) as csv_file_opened:\n",
    "        home_prices_df = pd.read_csv(csv_file_opened, header=0, sep=',', quotechar='\"')        "
   ]
  },
  {
   "cell_type": "code",
   "execution_count": null,
   "id": "b25ce70d-341d-488d-8825-db1522a270c8",
   "metadata": {},
   "outputs": [],
   "source": [
    "rental_rates_df.head()"
   ]
  },
  {
   "cell_type": "code",
   "execution_count": null,
   "id": "0d24027c-07a6-4764-b088-9c91fac69c4d",
   "metadata": {},
   "outputs": [],
   "source": [
    "mortgage_rates_df.head()"
   ]
  },
  {
   "cell_type": "code",
   "execution_count": null,
   "id": "468cfd0c-d9a6-4d1a-9713-1c82e9bf6bc8",
   "metadata": {},
   "outputs": [],
   "source": [
    "home_prices_df.head()"
   ]
  },
  {
   "cell_type": "markdown",
   "id": "372efee9-344e-4e6a-b220-e613c4f045e0",
   "metadata": {},
   "source": [
    "--- "
   ]
  },
  {
   "cell_type": "code",
   "execution_count": 13,
   "id": "660764ce-bc75-4812-890e-3e4d76aa0e8e",
   "metadata": {},
   "outputs": [
    {
     "data": {
      "application/javascript": [
       "\n",
       "(function(root) {\n",
       "  function now() {\n",
       "    return new Date();\n",
       "  }\n",
       "\n",
       "  var force = true;\n",
       "\n",
       "  if (typeof root._bokeh_onload_callbacks === \"undefined\" || force === true) {\n",
       "    root._bokeh_onload_callbacks = [];\n",
       "    root._bokeh_is_loading = undefined;\n",
       "  }\n",
       "\n",
       "  if (typeof (root._bokeh_timeout) === \"undefined\" || force === true) {\n",
       "    root._bokeh_timeout = Date.now() + 5000;\n",
       "    root._bokeh_failed_load = false;\n",
       "  }\n",
       "\n",
       "  function run_callbacks() {\n",
       "    try {\n",
       "      root._bokeh_onload_callbacks.forEach(function(callback) {\n",
       "        if (callback != null)\n",
       "          callback();\n",
       "      });\n",
       "    } finally {\n",
       "      delete root._bokeh_onload_callbacks\n",
       "    }\n",
       "    console.debug(\"Bokeh: all callbacks have finished\");\n",
       "  }\n",
       "\n",
       "  function load_libs(css_urls, js_urls, js_modules, callback) {\n",
       "    if (css_urls == null) css_urls = [];\n",
       "    if (js_urls == null) js_urls = [];\n",
       "    if (js_modules == null) js_modules = [];\n",
       "\n",
       "    root._bokeh_onload_callbacks.push(callback);\n",
       "    if (root._bokeh_is_loading > 0) {\n",
       "      console.debug(\"Bokeh: BokehJS is being loaded, scheduling callback at\", now());\n",
       "      return null;\n",
       "    }\n",
       "    if (js_urls.length === 0 && js_modules.length === 0) {\n",
       "      run_callbacks();\n",
       "      return null;\n",
       "    }\n",
       "    console.debug(\"Bokeh: BokehJS not loaded, scheduling load and callback at\", now());\n",
       "\n",
       "    function on_load() {\n",
       "      root._bokeh_is_loading--;\n",
       "      if (root._bokeh_is_loading === 0) {\n",
       "        console.debug(\"Bokeh: all BokehJS libraries/stylesheets loaded\");\n",
       "        run_callbacks()\n",
       "      }\n",
       "    }\n",
       "\n",
       "    function on_error() {\n",
       "      console.error(\"failed to load \" + url);\n",
       "    }\n",
       "\n",
       "    for (var i = 0; i < css_urls.length; i++) {\n",
       "      var url = css_urls[i];\n",
       "      const element = document.createElement(\"link\");\n",
       "      element.onload = on_load;\n",
       "      element.onerror = on_error;\n",
       "      element.rel = \"stylesheet\";\n",
       "      element.type = \"text/css\";\n",
       "      element.href = url;\n",
       "      console.debug(\"Bokeh: injecting link tag for BokehJS stylesheet: \", url);\n",
       "      document.body.appendChild(element);\n",
       "    }\n",
       "\n",
       "    var skip = [];\n",
       "    if (window.requirejs) {\n",
       "      window.requirejs.config({'packages': {}, 'paths': {'gridstack': 'https://cdn.jsdelivr.net/npm/gridstack@4.2.5/dist/gridstack-h5'}, 'shim': {'gridstack': {'exports': 'GridStack'}}});\n",
       "      \n",
       "      require([\"gridstack\"], function(GridStack) {\n",
       "\t\n",
       "\twindow.GridStack = GridStack\n",
       "\t\n",
       "\ton_load()\n",
       "      })\n",
       "      \n",
       "      root._bokeh_is_loading = css_urls.length + 1;\n",
       "    } else {\n",
       "      root._bokeh_is_loading = css_urls.length + js_urls.length + js_modules.length;\n",
       "    }\n",
       "    if (((window['GridStack'] !== undefined) && (!(window['GridStack'] instanceof HTMLElement))) || window.requirejs) {\n",
       "      var urls = ['https://cdn.jsdelivr.net/npm/gridstack@4.2.5/dist/gridstack-h5.js'];\n",
       "      for (var i = 0; i < urls.length; i++) {\n",
       "        skip.push(urls[i])\n",
       "      }\n",
       "    }\n",
       "    for (var i = 0; i < js_urls.length; i++) {\n",
       "      var url = js_urls[i];\n",
       "      if (skip.indexOf(url) >= 0) {\n",
       "\tif (!window.requirejs) {\n",
       "\t  on_load();\n",
       "\t}\n",
       "\tcontinue;\n",
       "      }\n",
       "      var element = document.createElement('script');\n",
       "      element.onload = on_load;\n",
       "      element.onerror = on_error;\n",
       "      element.async = false;\n",
       "      element.src = url;\n",
       "      console.debug(\"Bokeh: injecting script tag for BokehJS library: \", url);\n",
       "      document.head.appendChild(element);\n",
       "    }\n",
       "    for (var i = 0; i < js_modules.length; i++) {\n",
       "      var url = js_modules[i];\n",
       "      if (skip.indexOf(url) >= 0) {\n",
       "\tif (!window.requirejs) {\n",
       "\t  on_load();\n",
       "\t}\n",
       "\tcontinue;\n",
       "      }\n",
       "      var element = document.createElement('script');\n",
       "      element.onload = on_load;\n",
       "      element.onerror = on_error;\n",
       "      element.async = false;\n",
       "      element.src = url;\n",
       "      element.type = \"module\";\n",
       "      console.debug(\"Bokeh: injecting script tag for BokehJS library: \", url);\n",
       "      document.head.appendChild(element);\n",
       "    }\n",
       "    if (!js_urls.length && !js_modules.length) {\n",
       "      on_load()\n",
       "    }\n",
       "  };\n",
       "\n",
       "  function inject_raw_css(css) {\n",
       "    const element = document.createElement(\"style\");\n",
       "    element.appendChild(document.createTextNode(css));\n",
       "    document.body.appendChild(element);\n",
       "  }\n",
       "\n",
       "  var js_urls = [\"https://cdn.bokeh.org/bokeh/release/bokeh-2.4.2.min.js\", \"https://cdn.bokeh.org/bokeh/release/bokeh-gl-2.4.2.min.js\", \"https://cdn.bokeh.org/bokeh/release/bokeh-widgets-2.4.2.min.js\", \"https://cdn.bokeh.org/bokeh/release/bokeh-tables-2.4.2.min.js\", \"https://cdn.bokeh.org/bokeh/release/bokeh-mathjax-2.4.2.min.js\", \"https://unpkg.com/@holoviz/panel@0.13.0/dist/panel.min.js\"];\n",
       "  var js_modules = [];\n",
       "  var css_urls = [\"https://unpkg.com/@holoviz/panel@0.13.0/dist/css/alerts.css\", \"https://unpkg.com/@holoviz/panel@0.13.0/dist/css/card.css\", \"https://unpkg.com/@holoviz/panel@0.13.0/dist/css/dataframe.css\", \"https://unpkg.com/@holoviz/panel@0.13.0/dist/css/debugger.css\", \"https://unpkg.com/@holoviz/panel@0.13.0/dist/css/json.css\", \"https://unpkg.com/@holoviz/panel@0.13.0/dist/css/loading.css\", \"https://unpkg.com/@holoviz/panel@0.13.0/dist/css/markdown.css\", \"https://unpkg.com/@holoviz/panel@0.13.0/dist/css/widgets.css\"];\n",
       "  var inline_js = [\n",
       "    function(Bokeh) {\n",
       "      inject_raw_css(\"\\n    .bk.pn-loading.arcs:before {\\n      background-image: url(\\\"data:image/svg+xml;base64,PHN2ZyB4bWxucz0iaHR0cDovL3d3dy53My5vcmcvMjAwMC9zdmciIHhtbG5zOnhsaW5rPSJodHRwOi8vd3d3LnczLm9yZy8xOTk5L3hsaW5rIiBzdHlsZT0ibWFyZ2luOiBhdXRvOyBiYWNrZ3JvdW5kOiBub25lOyBkaXNwbGF5OiBibG9jazsgc2hhcGUtcmVuZGVyaW5nOiBhdXRvOyIgdmlld0JveD0iMCAwIDEwMCAxMDAiIHByZXNlcnZlQXNwZWN0UmF0aW89InhNaWRZTWlkIj4gIDxjaXJjbGUgY3g9IjUwIiBjeT0iNTAiIHI9IjMyIiBzdHJva2Utd2lkdGg9IjgiIHN0cm9rZT0iI2MzYzNjMyIgc3Ryb2tlLWRhc2hhcnJheT0iNTAuMjY1NDgyNDU3NDM2NjkgNTAuMjY1NDgyNDU3NDM2NjkiIGZpbGw9Im5vbmUiIHN0cm9rZS1saW5lY2FwPSJyb3VuZCI+ICAgIDxhbmltYXRlVHJhbnNmb3JtIGF0dHJpYnV0ZU5hbWU9InRyYW5zZm9ybSIgdHlwZT0icm90YXRlIiByZXBlYXRDb3VudD0iaW5kZWZpbml0ZSIgZHVyPSIxcyIga2V5VGltZXM9IjA7MSIgdmFsdWVzPSIwIDUwIDUwOzM2MCA1MCA1MCI+PC9hbmltYXRlVHJhbnNmb3JtPiAgPC9jaXJjbGU+PC9zdmc+\\\");\\n      background-size: auto calc(min(50%, 400px));\\n    }\\n    \");\n",
       "    },\n",
       "    function(Bokeh) {\n",
       "      Bokeh.set_log_level(\"info\");\n",
       "    },\n",
       "    function(Bokeh) {} // ensure no trailing comma for IE\n",
       "  ];\n",
       "\n",
       "  function run_inline_js() {\n",
       "    if ((root.Bokeh !== undefined) || (force === true)) {\n",
       "      for (var i = 0; i < inline_js.length; i++) {\n",
       "        inline_js[i].call(root, root.Bokeh);\n",
       "      }} else if (Date.now() < root._bokeh_timeout) {\n",
       "      setTimeout(run_inline_js, 100);\n",
       "    } else if (!root._bokeh_failed_load) {\n",
       "      console.log(\"Bokeh: BokehJS failed to load within specified timeout.\");\n",
       "      root._bokeh_failed_load = true;\n",
       "    }\n",
       "  }\n",
       "\n",
       "  if (root._bokeh_is_loading === 0) {\n",
       "    console.debug(\"Bokeh: BokehJS loaded, going straight to plotting\");\n",
       "    run_inline_js();\n",
       "  } else {\n",
       "    load_libs(css_urls, js_urls, js_modules, function() {\n",
       "      console.debug(\"Bokeh: BokehJS plotting callback run at\", now());\n",
       "      run_inline_js();\n",
       "    });\n",
       "  }\n",
       "}(window));"
      ],
      "application/vnd.holoviews_load.v0+json": "\n(function(root) {\n  function now() {\n    return new Date();\n  }\n\n  var force = true;\n\n  if (typeof root._bokeh_onload_callbacks === \"undefined\" || force === true) {\n    root._bokeh_onload_callbacks = [];\n    root._bokeh_is_loading = undefined;\n  }\n\n  if (typeof (root._bokeh_timeout) === \"undefined\" || force === true) {\n    root._bokeh_timeout = Date.now() + 5000;\n    root._bokeh_failed_load = false;\n  }\n\n  function run_callbacks() {\n    try {\n      root._bokeh_onload_callbacks.forEach(function(callback) {\n        if (callback != null)\n          callback();\n      });\n    } finally {\n      delete root._bokeh_onload_callbacks\n    }\n    console.debug(\"Bokeh: all callbacks have finished\");\n  }\n\n  function load_libs(css_urls, js_urls, js_modules, callback) {\n    if (css_urls == null) css_urls = [];\n    if (js_urls == null) js_urls = [];\n    if (js_modules == null) js_modules = [];\n\n    root._bokeh_onload_callbacks.push(callback);\n    if (root._bokeh_is_loading > 0) {\n      console.debug(\"Bokeh: BokehJS is being loaded, scheduling callback at\", now());\n      return null;\n    }\n    if (js_urls.length === 0 && js_modules.length === 0) {\n      run_callbacks();\n      return null;\n    }\n    console.debug(\"Bokeh: BokehJS not loaded, scheduling load and callback at\", now());\n\n    function on_load() {\n      root._bokeh_is_loading--;\n      if (root._bokeh_is_loading === 0) {\n        console.debug(\"Bokeh: all BokehJS libraries/stylesheets loaded\");\n        run_callbacks()\n      }\n    }\n\n    function on_error() {\n      console.error(\"failed to load \" + url);\n    }\n\n    for (var i = 0; i < css_urls.length; i++) {\n      var url = css_urls[i];\n      const element = document.createElement(\"link\");\n      element.onload = on_load;\n      element.onerror = on_error;\n      element.rel = \"stylesheet\";\n      element.type = \"text/css\";\n      element.href = url;\n      console.debug(\"Bokeh: injecting link tag for BokehJS stylesheet: \", url);\n      document.body.appendChild(element);\n    }\n\n    var skip = [];\n    if (window.requirejs) {\n      window.requirejs.config({'packages': {}, 'paths': {'gridstack': 'https://cdn.jsdelivr.net/npm/gridstack@4.2.5/dist/gridstack-h5'}, 'shim': {'gridstack': {'exports': 'GridStack'}}});\n      \n      require([\"gridstack\"], function(GridStack) {\n\t\n\twindow.GridStack = GridStack\n\t\n\ton_load()\n      })\n      \n      root._bokeh_is_loading = css_urls.length + 1;\n    } else {\n      root._bokeh_is_loading = css_urls.length + js_urls.length + js_modules.length;\n    }\n    if (((window['GridStack'] !== undefined) && (!(window['GridStack'] instanceof HTMLElement))) || window.requirejs) {\n      var urls = ['https://cdn.jsdelivr.net/npm/gridstack@4.2.5/dist/gridstack-h5.js'];\n      for (var i = 0; i < urls.length; i++) {\n        skip.push(urls[i])\n      }\n    }\n    for (var i = 0; i < js_urls.length; i++) {\n      var url = js_urls[i];\n      if (skip.indexOf(url) >= 0) {\n\tif (!window.requirejs) {\n\t  on_load();\n\t}\n\tcontinue;\n      }\n      var element = document.createElement('script');\n      element.onload = on_load;\n      element.onerror = on_error;\n      element.async = false;\n      element.src = url;\n      console.debug(\"Bokeh: injecting script tag for BokehJS library: \", url);\n      document.head.appendChild(element);\n    }\n    for (var i = 0; i < js_modules.length; i++) {\n      var url = js_modules[i];\n      if (skip.indexOf(url) >= 0) {\n\tif (!window.requirejs) {\n\t  on_load();\n\t}\n\tcontinue;\n      }\n      var element = document.createElement('script');\n      element.onload = on_load;\n      element.onerror = on_error;\n      element.async = false;\n      element.src = url;\n      element.type = \"module\";\n      console.debug(\"Bokeh: injecting script tag for BokehJS library: \", url);\n      document.head.appendChild(element);\n    }\n    if (!js_urls.length && !js_modules.length) {\n      on_load()\n    }\n  };\n\n  function inject_raw_css(css) {\n    const element = document.createElement(\"style\");\n    element.appendChild(document.createTextNode(css));\n    document.body.appendChild(element);\n  }\n\n  var js_urls = [\"https://cdn.bokeh.org/bokeh/release/bokeh-2.4.2.min.js\", \"https://cdn.bokeh.org/bokeh/release/bokeh-gl-2.4.2.min.js\", \"https://cdn.bokeh.org/bokeh/release/bokeh-widgets-2.4.2.min.js\", \"https://cdn.bokeh.org/bokeh/release/bokeh-tables-2.4.2.min.js\", \"https://cdn.bokeh.org/bokeh/release/bokeh-mathjax-2.4.2.min.js\", \"https://unpkg.com/@holoviz/panel@0.13.0/dist/panel.min.js\"];\n  var js_modules = [];\n  var css_urls = [\"https://unpkg.com/@holoviz/panel@0.13.0/dist/css/alerts.css\", \"https://unpkg.com/@holoviz/panel@0.13.0/dist/css/card.css\", \"https://unpkg.com/@holoviz/panel@0.13.0/dist/css/dataframe.css\", \"https://unpkg.com/@holoviz/panel@0.13.0/dist/css/debugger.css\", \"https://unpkg.com/@holoviz/panel@0.13.0/dist/css/json.css\", \"https://unpkg.com/@holoviz/panel@0.13.0/dist/css/loading.css\", \"https://unpkg.com/@holoviz/panel@0.13.0/dist/css/markdown.css\", \"https://unpkg.com/@holoviz/panel@0.13.0/dist/css/widgets.css\"];\n  var inline_js = [\n    function(Bokeh) {\n      inject_raw_css(\"\\n    .bk.pn-loading.arcs:before {\\n      background-image: url(\\\"data:image/svg+xml;base64,PHN2ZyB4bWxucz0iaHR0cDovL3d3dy53My5vcmcvMjAwMC9zdmciIHhtbG5zOnhsaW5rPSJodHRwOi8vd3d3LnczLm9yZy8xOTk5L3hsaW5rIiBzdHlsZT0ibWFyZ2luOiBhdXRvOyBiYWNrZ3JvdW5kOiBub25lOyBkaXNwbGF5OiBibG9jazsgc2hhcGUtcmVuZGVyaW5nOiBhdXRvOyIgdmlld0JveD0iMCAwIDEwMCAxMDAiIHByZXNlcnZlQXNwZWN0UmF0aW89InhNaWRZTWlkIj4gIDxjaXJjbGUgY3g9IjUwIiBjeT0iNTAiIHI9IjMyIiBzdHJva2Utd2lkdGg9IjgiIHN0cm9rZT0iI2MzYzNjMyIgc3Ryb2tlLWRhc2hhcnJheT0iNTAuMjY1NDgyNDU3NDM2NjkgNTAuMjY1NDgyNDU3NDM2NjkiIGZpbGw9Im5vbmUiIHN0cm9rZS1saW5lY2FwPSJyb3VuZCI+ICAgIDxhbmltYXRlVHJhbnNmb3JtIGF0dHJpYnV0ZU5hbWU9InRyYW5zZm9ybSIgdHlwZT0icm90YXRlIiByZXBlYXRDb3VudD0iaW5kZWZpbml0ZSIgZHVyPSIxcyIga2V5VGltZXM9IjA7MSIgdmFsdWVzPSIwIDUwIDUwOzM2MCA1MCA1MCI+PC9hbmltYXRlVHJhbnNmb3JtPiAgPC9jaXJjbGU+PC9zdmc+\\\");\\n      background-size: auto calc(min(50%, 400px));\\n    }\\n    \");\n    },\n    function(Bokeh) {\n      Bokeh.set_log_level(\"info\");\n    },\n    function(Bokeh) {} // ensure no trailing comma for IE\n  ];\n\n  function run_inline_js() {\n    if ((root.Bokeh !== undefined) || (force === true)) {\n      for (var i = 0; i < inline_js.length; i++) {\n        inline_js[i].call(root, root.Bokeh);\n      }} else if (Date.now() < root._bokeh_timeout) {\n      setTimeout(run_inline_js, 100);\n    } else if (!root._bokeh_failed_load) {\n      console.log(\"Bokeh: BokehJS failed to load within specified timeout.\");\n      root._bokeh_failed_load = true;\n    }\n  }\n\n  if (root._bokeh_is_loading === 0) {\n    console.debug(\"Bokeh: BokehJS loaded, going straight to plotting\");\n    run_inline_js();\n  } else {\n    load_libs(css_urls, js_urls, js_modules, function() {\n      console.debug(\"Bokeh: BokehJS plotting callback run at\", now());\n      run_inline_js();\n    });\n  }\n}(window));"
     },
     "metadata": {},
     "output_type": "display_data"
    },
    {
     "data": {
      "application/javascript": [
       "\n",
       "if ((window.PyViz === undefined) || (window.PyViz instanceof HTMLElement)) {\n",
       "  window.PyViz = {comms: {}, comm_status:{}, kernels:{}, receivers: {}, plot_index: []}\n",
       "}\n",
       "\n",
       "\n",
       "    function JupyterCommManager() {\n",
       "    }\n",
       "\n",
       "    JupyterCommManager.prototype.register_target = function(plot_id, comm_id, msg_handler) {\n",
       "      if (window.comm_manager || ((window.Jupyter !== undefined) && (Jupyter.notebook.kernel != null))) {\n",
       "        var comm_manager = window.comm_manager || Jupyter.notebook.kernel.comm_manager;\n",
       "        comm_manager.register_target(comm_id, function(comm) {\n",
       "          comm.on_msg(msg_handler);\n",
       "        });\n",
       "      } else if ((plot_id in window.PyViz.kernels) && (window.PyViz.kernels[plot_id])) {\n",
       "        window.PyViz.kernels[plot_id].registerCommTarget(comm_id, function(comm) {\n",
       "          comm.onMsg = msg_handler;\n",
       "        });\n",
       "      } else if (typeof google != 'undefined' && google.colab.kernel != null) {\n",
       "        google.colab.kernel.comms.registerTarget(comm_id, (comm) => {\n",
       "          var messages = comm.messages[Symbol.asyncIterator]();\n",
       "          function processIteratorResult(result) {\n",
       "            var message = result.value;\n",
       "            console.log(message)\n",
       "            var content = {data: message.data, comm_id};\n",
       "            var buffers = []\n",
       "            for (var buffer of message.buffers || []) {\n",
       "              buffers.push(new DataView(buffer))\n",
       "            }\n",
       "            var metadata = message.metadata || {};\n",
       "            var msg = {content, buffers, metadata}\n",
       "            msg_handler(msg);\n",
       "            return messages.next().then(processIteratorResult);\n",
       "          }\n",
       "          return messages.next().then(processIteratorResult);\n",
       "        })\n",
       "      }\n",
       "    }\n",
       "\n",
       "    JupyterCommManager.prototype.get_client_comm = function(plot_id, comm_id, msg_handler) {\n",
       "      if (comm_id in window.PyViz.comms) {\n",
       "        return window.PyViz.comms[comm_id];\n",
       "      } else if (window.comm_manager || ((window.Jupyter !== undefined) && (Jupyter.notebook.kernel != null))) {\n",
       "        var comm_manager = window.comm_manager || Jupyter.notebook.kernel.comm_manager;\n",
       "        var comm = comm_manager.new_comm(comm_id, {}, {}, {}, comm_id);\n",
       "        if (msg_handler) {\n",
       "          comm.on_msg(msg_handler);\n",
       "        }\n",
       "      } else if ((plot_id in window.PyViz.kernels) && (window.PyViz.kernels[plot_id])) {\n",
       "        var comm = window.PyViz.kernels[plot_id].connectToComm(comm_id);\n",
       "        comm.open();\n",
       "        if (msg_handler) {\n",
       "          comm.onMsg = msg_handler;\n",
       "        }\n",
       "      } else if (typeof google != 'undefined' && google.colab.kernel != null) {\n",
       "        var comm_promise = google.colab.kernel.comms.open(comm_id)\n",
       "        comm_promise.then((comm) => {\n",
       "          window.PyViz.comms[comm_id] = comm;\n",
       "          if (msg_handler) {\n",
       "            var messages = comm.messages[Symbol.asyncIterator]();\n",
       "            function processIteratorResult(result) {\n",
       "              var message = result.value;\n",
       "              var content = {data: message.data};\n",
       "              var metadata = message.metadata || {comm_id};\n",
       "              var msg = {content, metadata}\n",
       "              msg_handler(msg);\n",
       "              return messages.next().then(processIteratorResult);\n",
       "            }\n",
       "            return messages.next().then(processIteratorResult);\n",
       "          }\n",
       "        }) \n",
       "        var sendClosure = (data, metadata, buffers, disposeOnDone) => {\n",
       "          return comm_promise.then((comm) => {\n",
       "            comm.send(data, metadata, buffers, disposeOnDone);\n",
       "          });\n",
       "        };\n",
       "        var comm = {\n",
       "          send: sendClosure\n",
       "        };\n",
       "      }\n",
       "      window.PyViz.comms[comm_id] = comm;\n",
       "      return comm;\n",
       "    }\n",
       "    window.PyViz.comm_manager = new JupyterCommManager();\n",
       "    \n",
       "\n",
       "\n",
       "var JS_MIME_TYPE = 'application/javascript';\n",
       "var HTML_MIME_TYPE = 'text/html';\n",
       "var EXEC_MIME_TYPE = 'application/vnd.holoviews_exec.v0+json';\n",
       "var CLASS_NAME = 'output';\n",
       "\n",
       "/**\n",
       " * Render data to the DOM node\n",
       " */\n",
       "function render(props, node) {\n",
       "  var div = document.createElement(\"div\");\n",
       "  var script = document.createElement(\"script\");\n",
       "  node.appendChild(div);\n",
       "  node.appendChild(script);\n",
       "}\n",
       "\n",
       "/**\n",
       " * Handle when a new output is added\n",
       " */\n",
       "function handle_add_output(event, handle) {\n",
       "  var output_area = handle.output_area;\n",
       "  var output = handle.output;\n",
       "  if ((output.data == undefined) || (!output.data.hasOwnProperty(EXEC_MIME_TYPE))) {\n",
       "    return\n",
       "  }\n",
       "  var id = output.metadata[EXEC_MIME_TYPE][\"id\"];\n",
       "  var toinsert = output_area.element.find(\".\" + CLASS_NAME.split(' ')[0]);\n",
       "  if (id !== undefined) {\n",
       "    var nchildren = toinsert.length;\n",
       "    var html_node = toinsert[nchildren-1].children[0];\n",
       "    html_node.innerHTML = output.data[HTML_MIME_TYPE];\n",
       "    var scripts = [];\n",
       "    var nodelist = html_node.querySelectorAll(\"script\");\n",
       "    for (var i in nodelist) {\n",
       "      if (nodelist.hasOwnProperty(i)) {\n",
       "        scripts.push(nodelist[i])\n",
       "      }\n",
       "    }\n",
       "\n",
       "    scripts.forEach( function (oldScript) {\n",
       "      var newScript = document.createElement(\"script\");\n",
       "      var attrs = [];\n",
       "      var nodemap = oldScript.attributes;\n",
       "      for (var j in nodemap) {\n",
       "        if (nodemap.hasOwnProperty(j)) {\n",
       "          attrs.push(nodemap[j])\n",
       "        }\n",
       "      }\n",
       "      attrs.forEach(function(attr) { newScript.setAttribute(attr.name, attr.value) });\n",
       "      newScript.appendChild(document.createTextNode(oldScript.innerHTML));\n",
       "      oldScript.parentNode.replaceChild(newScript, oldScript);\n",
       "    });\n",
       "    if (JS_MIME_TYPE in output.data) {\n",
       "      toinsert[nchildren-1].children[1].textContent = output.data[JS_MIME_TYPE];\n",
       "    }\n",
       "    output_area._hv_plot_id = id;\n",
       "    if ((window.Bokeh !== undefined) && (id in Bokeh.index)) {\n",
       "      window.PyViz.plot_index[id] = Bokeh.index[id];\n",
       "    } else {\n",
       "      window.PyViz.plot_index[id] = null;\n",
       "    }\n",
       "  } else if (output.metadata[EXEC_MIME_TYPE][\"server_id\"] !== undefined) {\n",
       "    var bk_div = document.createElement(\"div\");\n",
       "    bk_div.innerHTML = output.data[HTML_MIME_TYPE];\n",
       "    var script_attrs = bk_div.children[0].attributes;\n",
       "    for (var i = 0; i < script_attrs.length; i++) {\n",
       "      toinsert[toinsert.length - 1].childNodes[1].setAttribute(script_attrs[i].name, script_attrs[i].value);\n",
       "    }\n",
       "    // store reference to server id on output_area\n",
       "    output_area._bokeh_server_id = output.metadata[EXEC_MIME_TYPE][\"server_id\"];\n",
       "  }\n",
       "}\n",
       "\n",
       "/**\n",
       " * Handle when an output is cleared or removed\n",
       " */\n",
       "function handle_clear_output(event, handle) {\n",
       "  var id = handle.cell.output_area._hv_plot_id;\n",
       "  var server_id = handle.cell.output_area._bokeh_server_id;\n",
       "  if (((id === undefined) || !(id in PyViz.plot_index)) && (server_id !== undefined)) { return; }\n",
       "  var comm = window.PyViz.comm_manager.get_client_comm(\"hv-extension-comm\", \"hv-extension-comm\", function () {});\n",
       "  if (server_id !== null) {\n",
       "    comm.send({event_type: 'server_delete', 'id': server_id});\n",
       "    return;\n",
       "  } else if (comm !== null) {\n",
       "    comm.send({event_type: 'delete', 'id': id});\n",
       "  }\n",
       "  delete PyViz.plot_index[id];\n",
       "  if ((window.Bokeh !== undefined) & (id in window.Bokeh.index)) {\n",
       "    var doc = window.Bokeh.index[id].model.document\n",
       "    doc.clear();\n",
       "    const i = window.Bokeh.documents.indexOf(doc);\n",
       "    if (i > -1) {\n",
       "      window.Bokeh.documents.splice(i, 1);\n",
       "    }\n",
       "  }\n",
       "}\n",
       "\n",
       "/**\n",
       " * Handle kernel restart event\n",
       " */\n",
       "function handle_kernel_cleanup(event, handle) {\n",
       "  delete PyViz.comms[\"hv-extension-comm\"];\n",
       "  window.PyViz.plot_index = {}\n",
       "}\n",
       "\n",
       "/**\n",
       " * Handle update_display_data messages\n",
       " */\n",
       "function handle_update_output(event, handle) {\n",
       "  handle_clear_output(event, {cell: {output_area: handle.output_area}})\n",
       "  handle_add_output(event, handle)\n",
       "}\n",
       "\n",
       "function register_renderer(events, OutputArea) {\n",
       "  function append_mime(data, metadata, element) {\n",
       "    // create a DOM node to render to\n",
       "    var toinsert = this.create_output_subarea(\n",
       "    metadata,\n",
       "    CLASS_NAME,\n",
       "    EXEC_MIME_TYPE\n",
       "    );\n",
       "    this.keyboard_manager.register_events(toinsert);\n",
       "    // Render to node\n",
       "    var props = {data: data, metadata: metadata[EXEC_MIME_TYPE]};\n",
       "    render(props, toinsert[0]);\n",
       "    element.append(toinsert);\n",
       "    return toinsert\n",
       "  }\n",
       "\n",
       "  events.on('output_added.OutputArea', handle_add_output);\n",
       "  events.on('output_updated.OutputArea', handle_update_output);\n",
       "  events.on('clear_output.CodeCell', handle_clear_output);\n",
       "  events.on('delete.Cell', handle_clear_output);\n",
       "  events.on('kernel_ready.Kernel', handle_kernel_cleanup);\n",
       "\n",
       "  OutputArea.prototype.register_mime_type(EXEC_MIME_TYPE, append_mime, {\n",
       "    safe: true,\n",
       "    index: 0\n",
       "  });\n",
       "}\n",
       "\n",
       "if (window.Jupyter !== undefined) {\n",
       "  try {\n",
       "    var events = require('base/js/events');\n",
       "    var OutputArea = require('notebook/js/outputarea').OutputArea;\n",
       "    if (OutputArea.prototype.mime_types().indexOf(EXEC_MIME_TYPE) == -1) {\n",
       "      register_renderer(events, OutputArea);\n",
       "    }\n",
       "  } catch(err) {\n",
       "  }\n",
       "}\n"
      ],
      "application/vnd.holoviews_load.v0+json": "\nif ((window.PyViz === undefined) || (window.PyViz instanceof HTMLElement)) {\n  window.PyViz = {comms: {}, comm_status:{}, kernels:{}, receivers: {}, plot_index: []}\n}\n\n\n    function JupyterCommManager() {\n    }\n\n    JupyterCommManager.prototype.register_target = function(plot_id, comm_id, msg_handler) {\n      if (window.comm_manager || ((window.Jupyter !== undefined) && (Jupyter.notebook.kernel != null))) {\n        var comm_manager = window.comm_manager || Jupyter.notebook.kernel.comm_manager;\n        comm_manager.register_target(comm_id, function(comm) {\n          comm.on_msg(msg_handler);\n        });\n      } else if ((plot_id in window.PyViz.kernels) && (window.PyViz.kernels[plot_id])) {\n        window.PyViz.kernels[plot_id].registerCommTarget(comm_id, function(comm) {\n          comm.onMsg = msg_handler;\n        });\n      } else if (typeof google != 'undefined' && google.colab.kernel != null) {\n        google.colab.kernel.comms.registerTarget(comm_id, (comm) => {\n          var messages = comm.messages[Symbol.asyncIterator]();\n          function processIteratorResult(result) {\n            var message = result.value;\n            console.log(message)\n            var content = {data: message.data, comm_id};\n            var buffers = []\n            for (var buffer of message.buffers || []) {\n              buffers.push(new DataView(buffer))\n            }\n            var metadata = message.metadata || {};\n            var msg = {content, buffers, metadata}\n            msg_handler(msg);\n            return messages.next().then(processIteratorResult);\n          }\n          return messages.next().then(processIteratorResult);\n        })\n      }\n    }\n\n    JupyterCommManager.prototype.get_client_comm = function(plot_id, comm_id, msg_handler) {\n      if (comm_id in window.PyViz.comms) {\n        return window.PyViz.comms[comm_id];\n      } else if (window.comm_manager || ((window.Jupyter !== undefined) && (Jupyter.notebook.kernel != null))) {\n        var comm_manager = window.comm_manager || Jupyter.notebook.kernel.comm_manager;\n        var comm = comm_manager.new_comm(comm_id, {}, {}, {}, comm_id);\n        if (msg_handler) {\n          comm.on_msg(msg_handler);\n        }\n      } else if ((plot_id in window.PyViz.kernels) && (window.PyViz.kernels[plot_id])) {\n        var comm = window.PyViz.kernels[plot_id].connectToComm(comm_id);\n        comm.open();\n        if (msg_handler) {\n          comm.onMsg = msg_handler;\n        }\n      } else if (typeof google != 'undefined' && google.colab.kernel != null) {\n        var comm_promise = google.colab.kernel.comms.open(comm_id)\n        comm_promise.then((comm) => {\n          window.PyViz.comms[comm_id] = comm;\n          if (msg_handler) {\n            var messages = comm.messages[Symbol.asyncIterator]();\n            function processIteratorResult(result) {\n              var message = result.value;\n              var content = {data: message.data};\n              var metadata = message.metadata || {comm_id};\n              var msg = {content, metadata}\n              msg_handler(msg);\n              return messages.next().then(processIteratorResult);\n            }\n            return messages.next().then(processIteratorResult);\n          }\n        }) \n        var sendClosure = (data, metadata, buffers, disposeOnDone) => {\n          return comm_promise.then((comm) => {\n            comm.send(data, metadata, buffers, disposeOnDone);\n          });\n        };\n        var comm = {\n          send: sendClosure\n        };\n      }\n      window.PyViz.comms[comm_id] = comm;\n      return comm;\n    }\n    window.PyViz.comm_manager = new JupyterCommManager();\n    \n\n\nvar JS_MIME_TYPE = 'application/javascript';\nvar HTML_MIME_TYPE = 'text/html';\nvar EXEC_MIME_TYPE = 'application/vnd.holoviews_exec.v0+json';\nvar CLASS_NAME = 'output';\n\n/**\n * Render data to the DOM node\n */\nfunction render(props, node) {\n  var div = document.createElement(\"div\");\n  var script = document.createElement(\"script\");\n  node.appendChild(div);\n  node.appendChild(script);\n}\n\n/**\n * Handle when a new output is added\n */\nfunction handle_add_output(event, handle) {\n  var output_area = handle.output_area;\n  var output = handle.output;\n  if ((output.data == undefined) || (!output.data.hasOwnProperty(EXEC_MIME_TYPE))) {\n    return\n  }\n  var id = output.metadata[EXEC_MIME_TYPE][\"id\"];\n  var toinsert = output_area.element.find(\".\" + CLASS_NAME.split(' ')[0]);\n  if (id !== undefined) {\n    var nchildren = toinsert.length;\n    var html_node = toinsert[nchildren-1].children[0];\n    html_node.innerHTML = output.data[HTML_MIME_TYPE];\n    var scripts = [];\n    var nodelist = html_node.querySelectorAll(\"script\");\n    for (var i in nodelist) {\n      if (nodelist.hasOwnProperty(i)) {\n        scripts.push(nodelist[i])\n      }\n    }\n\n    scripts.forEach( function (oldScript) {\n      var newScript = document.createElement(\"script\");\n      var attrs = [];\n      var nodemap = oldScript.attributes;\n      for (var j in nodemap) {\n        if (nodemap.hasOwnProperty(j)) {\n          attrs.push(nodemap[j])\n        }\n      }\n      attrs.forEach(function(attr) { newScript.setAttribute(attr.name, attr.value) });\n      newScript.appendChild(document.createTextNode(oldScript.innerHTML));\n      oldScript.parentNode.replaceChild(newScript, oldScript);\n    });\n    if (JS_MIME_TYPE in output.data) {\n      toinsert[nchildren-1].children[1].textContent = output.data[JS_MIME_TYPE];\n    }\n    output_area._hv_plot_id = id;\n    if ((window.Bokeh !== undefined) && (id in Bokeh.index)) {\n      window.PyViz.plot_index[id] = Bokeh.index[id];\n    } else {\n      window.PyViz.plot_index[id] = null;\n    }\n  } else if (output.metadata[EXEC_MIME_TYPE][\"server_id\"] !== undefined) {\n    var bk_div = document.createElement(\"div\");\n    bk_div.innerHTML = output.data[HTML_MIME_TYPE];\n    var script_attrs = bk_div.children[0].attributes;\n    for (var i = 0; i < script_attrs.length; i++) {\n      toinsert[toinsert.length - 1].childNodes[1].setAttribute(script_attrs[i].name, script_attrs[i].value);\n    }\n    // store reference to server id on output_area\n    output_area._bokeh_server_id = output.metadata[EXEC_MIME_TYPE][\"server_id\"];\n  }\n}\n\n/**\n * Handle when an output is cleared or removed\n */\nfunction handle_clear_output(event, handle) {\n  var id = handle.cell.output_area._hv_plot_id;\n  var server_id = handle.cell.output_area._bokeh_server_id;\n  if (((id === undefined) || !(id in PyViz.plot_index)) && (server_id !== undefined)) { return; }\n  var comm = window.PyViz.comm_manager.get_client_comm(\"hv-extension-comm\", \"hv-extension-comm\", function () {});\n  if (server_id !== null) {\n    comm.send({event_type: 'server_delete', 'id': server_id});\n    return;\n  } else if (comm !== null) {\n    comm.send({event_type: 'delete', 'id': id});\n  }\n  delete PyViz.plot_index[id];\n  if ((window.Bokeh !== undefined) & (id in window.Bokeh.index)) {\n    var doc = window.Bokeh.index[id].model.document\n    doc.clear();\n    const i = window.Bokeh.documents.indexOf(doc);\n    if (i > -1) {\n      window.Bokeh.documents.splice(i, 1);\n    }\n  }\n}\n\n/**\n * Handle kernel restart event\n */\nfunction handle_kernel_cleanup(event, handle) {\n  delete PyViz.comms[\"hv-extension-comm\"];\n  window.PyViz.plot_index = {}\n}\n\n/**\n * Handle update_display_data messages\n */\nfunction handle_update_output(event, handle) {\n  handle_clear_output(event, {cell: {output_area: handle.output_area}})\n  handle_add_output(event, handle)\n}\n\nfunction register_renderer(events, OutputArea) {\n  function append_mime(data, metadata, element) {\n    // create a DOM node to render to\n    var toinsert = this.create_output_subarea(\n    metadata,\n    CLASS_NAME,\n    EXEC_MIME_TYPE\n    );\n    this.keyboard_manager.register_events(toinsert);\n    // Render to node\n    var props = {data: data, metadata: metadata[EXEC_MIME_TYPE]};\n    render(props, toinsert[0]);\n    element.append(toinsert);\n    return toinsert\n  }\n\n  events.on('output_added.OutputArea', handle_add_output);\n  events.on('output_updated.OutputArea', handle_update_output);\n  events.on('clear_output.CodeCell', handle_clear_output);\n  events.on('delete.Cell', handle_clear_output);\n  events.on('kernel_ready.Kernel', handle_kernel_cleanup);\n\n  OutputArea.prototype.register_mime_type(EXEC_MIME_TYPE, append_mime, {\n    safe: true,\n    index: 0\n  });\n}\n\nif (window.Jupyter !== undefined) {\n  try {\n    var events = require('base/js/events');\n    var OutputArea = require('notebook/js/outputarea').OutputArea;\n    if (OutputArea.prototype.mime_types().indexOf(EXEC_MIME_TYPE) == -1) {\n      register_renderer(events, OutputArea);\n    }\n  } catch(err) {\n  }\n}\n"
     },
     "metadata": {},
     "output_type": "display_data"
    },
    {
     "data": {
      "text/html": [
       "<style>.bk-root, .bk-root .bk:before, .bk-root .bk:after {\n",
       "  font-family: var(--jp-ui-font-size1);\n",
       "  font-size: var(--jp-ui-font-size1);\n",
       "  color: var(--jp-ui-font-color1);\n",
       "}\n",
       "</style>"
      ]
     },
     "metadata": {},
     "output_type": "display_data"
    },
    {
     "data": {},
     "metadata": {},
     "output_type": "display_data"
    },
    {
     "data": {
      "application/vnd.holoviews_exec.v0+json": "",
      "text/html": [
       "<div id='1022'>\n",
       "\n",
       "\n",
       "\n",
       "\n",
       "\n",
       "  <div class=\"bk-root\" id=\"25fc2656-0609-400c-91a5-5a6a5943d41a\" data-root-id=\"1022\"></div>\n",
       "</div>\n",
       "<script type=\"application/javascript\">(function(root) {\n",
       "  function embed_document(root) {\n",
       "    var docs_json = {\"636d1be3-9322-41d8-9eb6-e2b38c256da5\":{\"defs\":[{\"extends\":null,\"module\":null,\"name\":\"ReactiveHTML1\",\"overrides\":[],\"properties\":[]},{\"extends\":null,\"module\":null,\"name\":\"FlexBox1\",\"overrides\":[],\"properties\":[{\"default\":\"flex-start\",\"kind\":null,\"name\":\"align_content\"},{\"default\":\"flex-start\",\"kind\":null,\"name\":\"align_items\"},{\"default\":\"row\",\"kind\":null,\"name\":\"flex_direction\"},{\"default\":\"wrap\",\"kind\":null,\"name\":\"flex_wrap\"},{\"default\":\"flex-start\",\"kind\":null,\"name\":\"justify_content\"}]},{\"extends\":null,\"module\":null,\"name\":\"GridStack1\",\"overrides\":[],\"properties\":[{\"default\":\"warn\",\"kind\":null,\"name\":\"mode\"},{\"default\":null,\"kind\":null,\"name\":\"ncols\"},{\"default\":null,\"kind\":null,\"name\":\"nrows\"},{\"default\":true,\"kind\":null,\"name\":\"allow_resize\"},{\"default\":true,\"kind\":null,\"name\":\"allow_drag\"},{\"default\":[],\"kind\":null,\"name\":\"state\"}]},{\"extends\":null,\"module\":null,\"name\":\"click1\",\"overrides\":[],\"properties\":[{\"default\":\"\",\"kind\":null,\"name\":\"terminal_output\"},{\"default\":\"\",\"kind\":null,\"name\":\"debug_name\"},{\"default\":0,\"kind\":null,\"name\":\"clears\"}]},{\"extends\":null,\"module\":null,\"name\":\"TemplateActions1\",\"overrides\":[],\"properties\":[{\"default\":0,\"kind\":null,\"name\":\"open_modal\"},{\"default\":0,\"kind\":null,\"name\":\"close_modal\"}]},{\"extends\":null,\"module\":null,\"name\":\"MaterialTemplateActions1\",\"overrides\":[],\"properties\":[{\"default\":0,\"kind\":null,\"name\":\"open_modal\"},{\"default\":0,\"kind\":null,\"name\":\"close_modal\"}]}],\"roots\":{\"references\":[{\"attributes\":{\"children\":[{\"id\":\"1023\"},{\"id\":\"1026\"}],\"margin\":[0,0,0,0],\"name\":\"Column00134\"},\"id\":\"1022\",\"type\":\"Column\"},{\"attributes\":{\"children\":[{\"id\":\"1027\"}],\"margin\":[0,0,0,0],\"name\":\"Row00137\"},\"id\":\"1026\",\"type\":\"Row\"},{\"attributes\":{\"margin\":[5,10,5,10],\"options\":[\"Property A\",\"Property B\"],\"title\":\"Property\",\"value\":\"Property A\"},\"id\":\"1025\",\"type\":\"panel.models.widgets.CustomSelect\"},{\"attributes\":{\"margin\":[5,10,5,10],\"options\":[\"Area 1\",\"Area 2\"],\"title\":\"Area\",\"value\":\"Area 1\"},\"id\":\"1024\",\"type\":\"panel.models.widgets.CustomSelect\"},{\"attributes\":{\"client_comm_id\":\"831b008d53e14ced82660300d6e12b7e\",\"comm_id\":\"f4b855c2823a4cbf98d6d9daa95af1e1\",\"plot_id\":\"1022\"},\"id\":\"1028\",\"type\":\"panel.models.comm_manager.CommManager\"},{\"attributes\":{\"children\":[{\"id\":\"1024\"},{\"id\":\"1025\"}],\"margin\":[0,0,0,0],\"name\":\"Column00138\"},\"id\":\"1023\",\"type\":\"Column\"},{\"attributes\":{\"margin\":[5,5,5,5],\"name\":\"interactive00133\",\"text\":\"&lt;pre&gt; &lt;/pre&gt;\"},\"id\":\"1027\",\"type\":\"panel.models.markup.HTML\"}],\"root_ids\":[\"1022\",\"1028\"]},\"title\":\"Bokeh Application\",\"version\":\"2.4.2\"}};\n",
       "    var render_items = [{\"docid\":\"636d1be3-9322-41d8-9eb6-e2b38c256da5\",\"root_ids\":[\"1022\"],\"roots\":{\"1022\":\"25fc2656-0609-400c-91a5-5a6a5943d41a\"}}];\n",
       "    root.Bokeh.embed.embed_items_notebook(docs_json, render_items);\n",
       "  }\n",
       "  if (root.Bokeh !== undefined && root.Bokeh.Panel !== undefined) {\n",
       "    embed_document(root);\n",
       "  } else {\n",
       "    var attempts = 0;\n",
       "    var timer = setInterval(function(root) {\n",
       "      if (root.Bokeh !== undefined && root.Bokeh.Panel !== undefined) {\n",
       "        clearInterval(timer);\n",
       "        embed_document(root);\n",
       "      } else if (document.readyState == \"complete\") {\n",
       "        attempts++;\n",
       "        if (attempts > 200) {\n",
       "          clearInterval(timer);\n",
       "          console.log(\"Bokeh: ERROR: Unable to run BokehJS code because BokehJS library is missing\");\n",
       "        }\n",
       "      }\n",
       "    }, 25, root)\n",
       "  }\n",
       "})(window);</script>"
      ],
      "text/plain": [
       "Column\n",
       "    [0] Column\n",
       "        [0] Select(name='Area', options=['Area 1', 'Area 2'], value='Area 1')\n",
       "        [1] Select(name='Property', options=['Property A', ...], value='Property A')\n",
       "    [1] Row\n",
       "        [0] Str(None, name='interactive00133')"
      ]
     },
     "execution_count": 13,
     "metadata": {
      "application/vnd.holoviews_exec.v0+json": {
       "id": "1022"
      }
     },
     "output_type": "execute_result"
    },
    {
     "data": {
      "image/png": "[encoded data removed]",
      "text/plain": [
       "<Figure size 432x288 with 1 Axes>"
      ]
     },
     "metadata": {
      "needs_background": "light"
     },
     "output_type": "display_data"
    }
   ],
   "source": [
    "import panel as pn\n",
    "from panel import widgets\n",
    "pn.extension()\n",
    "import matplotlib.pyplot as plt\n",
    "\n",
    "# Create some data\n",
    "x = [1, 2, 3, 4, 5]\n",
    "y1 = [1, 4, 9, 16, 25]\n",
    "y2 = [2, 8, 18, 32, 50]\n",
    "\n",
    "# Create a figure and axis\n",
    "fig, ax = plt.subplots()\n",
    "line1, = ax.plot(x, y1)\n",
    "line2, = ax.plot(x, y2)\n",
    "\n",
    "# Create the drop-down menus\n",
    "area_select = pn.widgets.Select(name='Area', options=['Area 1', 'Area 2'])\n",
    "property_select = pn.widgets.Select(name='Property', options=['Property A', 'Property B'])\n",
    "\n",
    "# Define the function to update the line data when the menus are changed\n",
    "def update(area, property):\n",
    "    if area == 'Area 1':\n",
    "        if property == 'Property A':\n",
    "            line1.set_ydata(y1)\n",
    "            line2.set_ydata(y2)\n",
    "        else:\n",
    "            line1.set_ydata(y2)\n",
    "            line2.set_ydata(y1)\n",
    "    else:\n",
    "        if property == 'Property A':\n",
    "            line1.set_ydata(y2)\n",
    "            line2.set_ydata(y1)\n",
    "        else:\n",
    "            line1.set_ydata(y1)\n",
    "            line2.set_ydata(y2)\n",
    "    fig.canvas.draw_idle()\n",
    "\n",
    "# Create the interactive panel\n",
    "pn.interact(update, area=area_select, property=property_select)"
   ]
  },
  {
   "cell_type": "code",
   "execution_count": 12,
   "id": "0006bc0d-d0d8-4080-bcab-de1850f3ccc5",
   "metadata": {},
   "outputs": [
    {
     "name": "stdout",
     "output_type": "stream",
     "text": [
      "[]\n"
     ]
    },
    {
     "data": {},
     "metadata": {},
     "output_type": "display_data"
    },
    {
     "data": {
      "application/vnd.holoviews_exec.v0+json": "",
      "text/html": [
       "<div id='1016'>\n",
       "\n",
       "\n",
       "\n",
       "\n",
       "\n",
       "  <div class=\"bk-root\" id=\"2e78a278-d3e4-41c9-9d29-7a31f35324ab\" data-root-id=\"1016\"></div>\n",
       "</div>\n",
       "<script type=\"application/javascript\">(function(root) {\n",
       "  function embed_document(root) {\n",
       "    var docs_json = {\"66c7b59d-4a17-456f-baa7-32d71dffbeb6\":{\"defs\":[{\"extends\":null,\"module\":null,\"name\":\"ReactiveHTML1\",\"overrides\":[],\"properties\":[]},{\"extends\":null,\"module\":null,\"name\":\"FlexBox1\",\"overrides\":[],\"properties\":[{\"default\":\"flex-start\",\"kind\":null,\"name\":\"align_content\"},{\"default\":\"flex-start\",\"kind\":null,\"name\":\"align_items\"},{\"default\":\"row\",\"kind\":null,\"name\":\"flex_direction\"},{\"default\":\"wrap\",\"kind\":null,\"name\":\"flex_wrap\"},{\"default\":\"flex-start\",\"kind\":null,\"name\":\"justify_content\"}]},{\"extends\":null,\"module\":null,\"name\":\"GridStack1\",\"overrides\":[],\"properties\":[{\"default\":\"warn\",\"kind\":null,\"name\":\"mode\"},{\"default\":null,\"kind\":null,\"name\":\"ncols\"},{\"default\":null,\"kind\":null,\"name\":\"nrows\"},{\"default\":true,\"kind\":null,\"name\":\"allow_resize\"},{\"default\":true,\"kind\":null,\"name\":\"allow_drag\"},{\"default\":[],\"kind\":null,\"name\":\"state\"}]},{\"extends\":null,\"module\":null,\"name\":\"click1\",\"overrides\":[],\"properties\":[{\"default\":\"\",\"kind\":null,\"name\":\"terminal_output\"},{\"default\":\"\",\"kind\":null,\"name\":\"debug_name\"},{\"default\":0,\"kind\":null,\"name\":\"clears\"}]},{\"extends\":null,\"module\":null,\"name\":\"TemplateActions1\",\"overrides\":[],\"properties\":[{\"default\":0,\"kind\":null,\"name\":\"open_modal\"},{\"default\":0,\"kind\":null,\"name\":\"close_modal\"}]},{\"extends\":null,\"module\":null,\"name\":\"MaterialTemplateActions1\",\"overrides\":[],\"properties\":[{\"default\":0,\"kind\":null,\"name\":\"open_modal\"},{\"default\":0,\"kind\":null,\"name\":\"close_modal\"}]}],\"roots\":{\"references\":[{\"attributes\":{\"children\":[{\"id\":\"1020\"}],\"margin\":[0,0,0,0],\"name\":\"Row00126\"},\"id\":\"1019\",\"type\":\"Row\"},{\"attributes\":{\"client_comm_id\":\"283e8ee9c9884a8abb9c4f1b6973d14e\",\"comm_id\":\"a6ae2cf0dfd44fc988773d78da60cf91\",\"plot_id\":\"1016\"},\"id\":\"1021\",\"type\":\"panel.models.comm_manager.CommManager\"},{\"attributes\":{\"margin\":[5,10,5,10],\"options\":[\"Option A\",\"Option B\",\"Option C\"],\"title\":\"Select multiple options\"},\"id\":\"1018\",\"type\":\"MultiSelect\"},{\"attributes\":{\"children\":[{\"id\":\"1018\"}],\"margin\":[0,0,0,0],\"name\":\"Column00127\"},\"id\":\"1017\",\"type\":\"Column\"},{\"attributes\":{\"children\":[{\"id\":\"1017\"},{\"id\":\"1019\"}],\"margin\":[0,0,0,0],\"name\":\"Column00123\"},\"id\":\"1016\",\"type\":\"Column\"},{\"attributes\":{\"margin\":[5,5,5,5],\"name\":\"interactive00122\",\"text\":\"&lt;pre&gt; &lt;/pre&gt;\"},\"id\":\"1020\",\"type\":\"panel.models.markup.HTML\"}],\"root_ids\":[\"1016\",\"1021\"]},\"title\":\"Bokeh Application\",\"version\":\"2.4.2\"}};\n",
       "    var render_items = [{\"docid\":\"66c7b59d-4a17-456f-baa7-32d71dffbeb6\",\"root_ids\":[\"1016\"],\"roots\":{\"1016\":\"2e78a278-d3e4-41c9-9d29-7a31f35324ab\"}}];\n",
       "    root.Bokeh.embed.embed_items_notebook(docs_json, render_items);\n",
       "  }\n",
       "  if (root.Bokeh !== undefined && root.Bokeh.Panel !== undefined) {\n",
       "    embed_document(root);\n",
       "  } else {\n",
       "    var attempts = 0;\n",
       "    var timer = setInterval(function(root) {\n",
       "      if (root.Bokeh !== undefined && root.Bokeh.Panel !== undefined) {\n",
       "        clearInterval(timer);\n",
       "        embed_document(root);\n",
       "      } else if (document.readyState == \"complete\") {\n",
       "        attempts++;\n",
       "        if (attempts > 200) {\n",
       "          clearInterval(timer);\n",
       "          console.log(\"Bokeh: ERROR: Unable to run BokehJS code because BokehJS library is missing\");\n",
       "        }\n",
       "      }\n",
       "    }, 25, root)\n",
       "  }\n",
       "})(window);</script>"
      ],
      "text/plain": [
       "Column\n",
       "    [0] Column\n",
       "        [0] MultiSelect(name='Select multiple options', options=['Option A', 'Option B', ...])\n",
       "    [1] Row\n",
       "        [0] Str(None, name='interactive00122')"
      ]
     },
     "execution_count": 12,
     "metadata": {
      "application/vnd.holoviews_exec.v0+json": {
       "id": "1016"
      }
     },
     "output_type": "execute_result"
    }
   ],
   "source": [
    "import panel as pn\n",
    "\n",
    "# Create the drop-down menu\n",
    "options = ['Option A', 'Option B', 'Option C']\n",
    "multi_select = pn.widgets.MultiSelect(name='Select multiple options', options=options)\n",
    "\n",
    "# Create the function that will be called when the selection changes\n",
    "def update(values):\n",
    "    print(values)\n",
    "\n",
    "# Create the interactive panel\n",
    "pn.interact(update, values=multi_select)"
   ]
  },
  {
   "cell_type": "code",
   "execution_count": 14,
   "id": "5433ede0-688f-4db2-bb86-3d68d86f333e",
   "metadata": {},
   "outputs": [
    {
     "ename": "NameError",
     "evalue": "name 'pd' is not defined",
     "output_type": "error",
     "traceback": [
      "\u001b[1;31m---------------------------------------------------------------------------\u001b[0m",
      "\u001b[1;31mNameError\u001b[0m                                 Traceback (most recent call last)",
      "Input \u001b[1;32mIn [14]\u001b[0m, in \u001b[0;36m<cell line: 7>\u001b[1;34m()\u001b[0m\n\u001b[0;32m      1\u001b[0m \u001b[38;5;66;03m# https://stats.crea.ca/en-CA/ Data set from CREA website\u001b[39;00m\n\u001b[0;32m      2\u001b[0m \u001b[38;5;66;03m# https://www.crea.ca/housing-market-stats/mls-home-price-index/ -- What HPI stands for \u001b[39;00m\n\u001b[0;32m      3\u001b[0m \n\u001b[0;32m      4\u001b[0m \u001b[38;5;66;03m# Load excel workbook with multiple worksheets into one dataframe\u001b[39;00m\n\u001b[0;32m      5\u001b[0m \u001b[38;5;66;03m# When loading insert column with worksheet tab name as area_name\u001b[39;00m\n\u001b[0;32m      6\u001b[0m xlsx_file \u001b[38;5;241m=\u001b[39m \u001b[38;5;124m'\u001b[39m\u001b[38;5;124mResources/Seasonally_Adjusted.xlsx\u001b[39m\u001b[38;5;124m'\u001b[39m\n\u001b[1;32m----> 7\u001b[0m dfs \u001b[38;5;241m=\u001b[39m \u001b[43mpd\u001b[49m\u001b[38;5;241m.\u001b[39mread_excel(xlsx_file, sheet_name\u001b[38;5;241m=\u001b[39m\u001b[38;5;28;01mNone\u001b[39;00m)\n\u001b[0;32m      9\u001b[0m \u001b[38;5;66;03m# Create an empty list to store the dataframes\u001b[39;00m\n\u001b[0;32m     10\u001b[0m df_list \u001b[38;5;241m=\u001b[39m []\n",
      "\u001b[1;31mNameError\u001b[0m: name 'pd' is not defined"
     ]
    }
   ],
   "source": [
    "# https://stats.crea.ca/en-CA/ Data set from CREA website\n",
    "# https://www.crea.ca/housing-market-stats/mls-home-price-index/ -- What HPI stands for \n",
    "\n",
    "# Load excel workbook with multiple worksheets into one dataframe\n",
    "# When loading insert column with worksheet tab name as area_name\n",
    "xlsx_file = 'Resources/Seasonally_Adjusted.xlsx'\n",
    "dfs = pd.read_excel(xlsx_file, sheet_name=None)\n",
    "\n",
    "# Create an empty list to store the dataframes\n",
    "df_list = []\n",
    "\n",
    "# Iterate through each worksheet\n",
    "for sheet_name, df in dfs.items():\n",
    "    # Add a new column to the dataframe with the worksheet name\n",
    "    df['area_name'] = sheet_name\n",
    "    # Append the dataframe to the list\n",
    "    df_list.append(df)\n",
    "\n",
    "# Concatenate all dataframes into a single dataframe\n",
    "real_estate_canada_df = pd.concat(df_list)"
   ]
  },
  {
   "cell_type": "code",
   "execution_count": null,
   "id": "19e493d9-2743-4a2c-9939-cd96835e6646",
   "metadata": {},
   "outputs": [],
   "source": [
    "real_estate_canada_df.head()"
   ]
  },
  {
   "cell_type": "code",
   "execution_count": null,
   "id": "a1172ec4-3698-4c6f-95a9-ad0884703c33",
   "metadata": {},
   "outputs": [],
   "source": [
    "# This will extract area name as unique\n",
    "list_of_areas = real_estate_canada_df[\"area_name\"].unique()"
   ]
  },
  {
   "cell_type": "code",
   "execution_count": null,
   "id": "0ee232f1-ffd9-45c8-9f1b-eb66597fbed3",
   "metadata": {},
   "outputs": [],
   "source": []
  },
  {
   "cell_type": "code",
   "execution_count": null,
   "id": "38c6b84d-bf04-4de1-902d-66e8f5ed080d",
   "metadata": {},
   "outputs": [],
   "source": [
    "# Make another dataframe that has only 2022 data\n",
    "real_estate_2022_df = real_estate_canada_df.loc[real_estate_canada_df['Date'] == '2022-12-01'].drop(columns=['Composite_HPI_SA', 'Single_Family_HPI_SA','One_Storey_HPI_SA','Two_Storey_HPI_SA','Townhouse_HPI_SA','Apartment_HPI_SA'])"
   ]
  },
  {
   "cell_type": "code",
   "execution_count": null,
   "id": "de38133c-9655-4046-aed7-a2c9a2b43764",
   "metadata": {},
   "outputs": [],
   "source": [
    "real_estate_2022_df.head()"
   ]
  },
  {
   "cell_type": "code",
   "execution_count": null,
   "id": "d4f5efc4-6cc5-4e5e-96d9-e904e2ae2ff7",
   "metadata": {},
   "outputs": [],
   "source": [
    "# Organize read_estate_2022_df\n",
    "real_estate_df = real_estate_canada_df.loc[real_estate_canada_df['area_name'] == 'AGGREGATE'].drop(columns=['Composite_HPI_SA', 'Single_Family_HPI_SA','One_Storey_HPI_SA','Two_Storey_HPI_SA','Townhouse_HPI_SA','Apartment_HPI_SA'])\n",
    "real_estate_df = real_estate_df.rename(columns={'Date':'date'}).drop(columns=['area_name'])\n",
    "\n",
    "# Keep data between 2014-01-01 to 2021-12-01\n",
    "selected_dates = (real_estate_df['date'] > '2014-01-01') & (real_estate_df['date'] < '2021-12-01')\n",
    "real_estate_df = real_estate_df[selected_dates]\n",
    "\n",
    "# Keep only December data\n",
    "real_estate_df = real_estate_df[real_estate_df['date'].dt.month == 12]\n",
    "\n",
    "# Change date portion from yyyy-mm-dd to yyyy\n",
    "real_estate_df['date'] = real_estate_df['date'].dt.year"
   ]
  },
  {
   "cell_type": "code",
   "execution_count": null,
   "id": "6e4b4472-bd83-4f8f-811f-d8f00476339e",
   "metadata": {},
   "outputs": [],
   "source": [
    "real_estate_df"
   ]
  },
  {
   "cell_type": "code",
   "execution_count": null,
   "id": "0db78c64-62b9-4fae-9d1c-3b261e971454",
   "metadata": {},
   "outputs": [],
   "source": [
    "# Calculate annual percentage\n",
    "real_estate_pct_change = real_estate_df.iloc[:, 1:].pct_change()\n",
    "real_estate_pct_change.insert(0,'date',real_estate_df['date'])\n",
    "real_estate_pct_change"
   ]
  },
  {
   "cell_type": "code",
   "execution_count": 4,
   "id": "1e6b48b5-585f-4a39-b734-845c5323bb86",
   "metadata": {},
   "outputs": [],
   "source": [
    "# Load Interest rate\n",
    "canada_int_rate_df = pd.read_csv(\"Resources/Bank_Canada_rate.csv\", skiprows=11)\n",
    "canada_int_rate_df = canada_int_rate_df.rename(columns={'V122530':'canada_int_rate','Date':'date'})"
   ]
  },
  {
   "cell_type": "code",
   "execution_count": 5,
   "id": "986ee5e4-7932-430c-b070-ba8dc876a13a",
   "metadata": {},
   "outputs": [
    {
     "name": "stdout",
     "output_type": "stream",
     "text": [
      "Index(['date', 'canada_int_rate'], dtype='object')\n"
     ]
    }
   ],
   "source": [
    "print(canada_int_rate_df.columns)"
   ]
  },
  {
   "cell_type": "code",
   "execution_count": null,
   "id": "5079a061-5c15-423a-ba6b-89fa5ffc9d81",
   "metadata": {},
   "outputs": [],
   "source": [
    "# Organize the data\n",
    "# Set datetime format to date\n",
    "canada_int_rate_df['date'] = pd.to_datetime(canada_int_rate_df['date'])\n",
    "\n",
    "# Keep data between 2014-01-01 to 2021-12-01\n",
    "selected_dates = (canada_int_rate_df['date'] > '2014-01') & (canada_int_rate_df['date'] < '2021-12')\n",
    "canada_int_rate_df = canada_int_rate_df[selected_dates]\n",
    "\n",
    "# Keep only December data\n",
    "canada_int_rate_df = canada_int_rate_df[canada_int_rate_df['date'].dt.month == 12]\n",
    "\n",
    "# Change date portion from yyyy-mm-dd to yyyy\n",
    "canada_int_rate_df['date'] = canada_int_rate_df['date'].dt.year"
   ]
  },
  {
   "cell_type": "code",
   "execution_count": null,
   "id": "93ca45dc-5b07-413c-befe-c8fb2a0dacaf",
   "metadata": {},
   "outputs": [],
   "source": [
    "canada_int_rate_df"
   ]
  },
  {
   "cell_type": "code",
   "execution_count": null,
   "id": "25b37e1a-1dc3-4211-9976-7cf2b66cbe53",
   "metadata": {},
   "outputs": [],
   "source": [
    "# Load Inflation rate\n",
    "# df = pd.read_csv('some_data.csv', usecols = ['col1','col2'], low_memory = True)\n",
    "canada_inf_rate_df = pd.read_csv(\"Resources/INDINF_CPI.csv\", skiprows=20, usecols = ['date','INDINF_CPI_COMMON_Q'], low_memory = True)\n",
    "canada_inf_rate_df = canada_inf_rate_df.rename(columns={'INDINF_CPI_COMMON_Q':'canada_inf_rate'})"
   ]
  },
  {
   "cell_type": "code",
   "execution_count": null,
   "id": "34c16b2f-078d-47db-ae62-637f15981dc0",
   "metadata": {},
   "outputs": [],
   "source": [
    "# Organize data\n",
    "# Keep data between 2014-01-01 to 2021-12-01\n",
    "selected_dates = (canada_inf_rate_df['date'].str[:4] >= '2014') & (canada_inf_rate_df['date'].str[:4] <= '2021')\n",
    "canada_inf_rate_df = canada_inf_rate_df[selected_dates]\n",
    "\n",
    "# Keep only December data\n",
    "selected_dates = canada_inf_rate_df['date'].str[-2:] == 'Q4'\n",
    "canada_inf_rate_df = canada_inf_rate_df[selected_dates]\n",
    "\n",
    "# Change date portion from yyyy-mm-dd to yyyy\n",
    "canada_inf_rate_df['date'] = canada_inf_rate_df['date'].str[:-2]"
   ]
  },
  {
   "cell_type": "code",
   "execution_count": null,
   "id": "c6cd6f42-f703-4db8-aced-e6c4bcbdb9dc",
   "metadata": {},
   "outputs": [],
   "source": [
    "canada_inf_rate_df"
   ]
  },
  {
   "cell_type": "code",
   "execution_count": null,
   "id": "f6ac7d9a-b988-473f-b9eb-b81953e8ad6b",
   "metadata": {},
   "outputs": [],
   "source": [
    "# Load Immigration rate\n",
    "canada_imm_rate_df = pd.read_csv(\"Resources/Immigration_rate.csv\", skiprows=2, usecols = ['Year','Percentage (%)'], nrows=43, low_memory = True)\n",
    "canada_imm_rate_df = canada_imm_rate_df.rename(columns={'Percentage (%)':'canada_imm_rate','Year':'date'})\n",
    "canada_imm_rate_df"
   ]
  },
  {
   "cell_type": "code",
   "execution_count": null,
   "id": "367dd832-8c4e-48ab-a32d-05f1fa6152dc",
   "metadata": {},
   "outputs": [],
   "source": [
    "# Organize data\n",
    "# Organize data keep record from 2014 to 2021\n",
    "canada_imm_rate_df = canada_imm_rate_df.loc[(canada_imm_rate_df['date'] > 2014) & (canada_imm_rate_df['date'] < 2021)]"
   ]
  },
  {
   "cell_type": "code",
   "execution_count": null,
   "id": "52aa9f7c-9613-43b9-bba5-ed6e0e898f7e",
   "metadata": {},
   "outputs": [],
   "source": [
    "canada_imm_rate_df"
   ]
  },
  {
   "cell_type": "code",
   "execution_count": null,
   "id": "3d97e030-ec12-4dfd-bc9b-1077511abd91",
   "metadata": {},
   "outputs": [],
   "source": [
    "# Concatinate all the dataframe\n",
    "#real_estate_pct_change.set_index('date')\n",
    "#canada_int_rate_df.set_index('date')\n",
    "#canada_inf_rate_df.set_index('date')\n",
    "#canada_imm_rate_df.set_index('date')\n",
    "display(real_estate_pct_change['date'].dtypes)\n",
    "display(canada_inf_rate_df['date'].dtypes)\n",
    "display(canada_inf_rate_df['date'].dtypes)\n",
    "display(canada_imm_rate_df['date'].dtypes)\n",
    "\n",
    "# Change the data type\n",
    "canada_int_rate_df['date'] = canada_int_rate_df['date'].astype('int64')\n",
    "canada_inf_rate_df['date'] = canada_inf_rate_df['date'].astype('int64')\n",
    "\n",
    "combined_df = real_estate_pct_change.merge(canada_int_rate_df, on='date', how='inner').merge(canada_inf_rate_df, on='date', how='inner').merge(canada_imm_rate_df, on='date', how='inner')\n",
    "#combined_df = pd.concat([real_estate_pct_change,canada_int_rate_df,canada_inf_rate_df,canada_imm_rate_df], axis=\"columns\", join=\"inner\")\n",
    "combined_df.head()"
   ]
  },
  {
   "cell_type": "code",
   "execution_count": null,
   "id": "04ce0652-377e-491b-9fca-e4699f868cdc",
   "metadata": {},
   "outputs": [],
   "source": [
    "# Get corelationship\n",
    "correlation = combined_df.corr()\n",
    "correlation"
   ]
  },
  {
   "cell_type": "code",
   "execution_count": null,
   "id": "648683ac-de4f-43f4-aefc-814aba3af2a1",
   "metadata": {},
   "outputs": [],
   "source": [
    "# Show the heatmap\n",
    "sns.heatmap(correlation, annot=True, cmap=\"YlGnBu\")"
   ]
  },
  {
   "cell_type": "code",
   "execution_count": null,
   "id": "bc0248c2-c58d-4adc-9fb6-949fa3791bb1",
   "metadata": {},
   "outputs": [],
   "source": []
  },
  {
   "cell_type": "code",
   "execution_count": null,
   "id": "5671112f-1d9d-4a9a-ad5d-f3bb7da207b3",
   "metadata": {},
   "outputs": [],
   "source": []
  },
  {
   "cell_type": "code",
   "execution_count": null,
   "id": "5121a5f7-66ca-4054-bfa6-74cf0fb00042",
   "metadata": {},
   "outputs": [],
   "source": []
  },
  {
   "cell_type": "code",
   "execution_count": null,
   "id": "fd11831c-79fe-4f44-afa6-6e91fb84187f",
   "metadata": {},
   "outputs": [],
   "source": []
  },
  {
   "cell_type": "code",
   "execution_count": null,
   "id": "236a412f-9aca-4b49-b60a-1abdc09f0ed3",
   "metadata": {},
   "outputs": [],
   "source": [
    "real_estate_2022_bc_df.head()"
   ]
  },
  {
   "cell_type": "code",
   "execution_count": null,
   "id": "bf9ac28d-3701-4663-885d-32883276b2d7",
   "metadata": {},
   "outputs": [],
   "source": [
    "# pip install geopy -- Need to install geopy\n",
    "from geopy.geocoders import Nominatim\n",
    "geolocator = Nominatim(user_agent=\"geoapiExercises\")\n",
    "\n",
    "# Extract the location column\n",
    "locations = real_estate_2022_df[\"area_name\"] # Set dataframe\n",
    "\n",
    "# Get the coordinates for each location\n",
    "coordinates = []\n",
    "for location in locations:\n",
    "    try:\n",
    "        location_obj = geolocator.geocode(location)\n",
    "        coordinates.append((location, location_obj.latitude, location_obj.longitude))\n",
    "    except:\n",
    "        print(f\"{location} not found\")\n",
    "\n"
   ]
  },
  {
   "cell_type": "code",
   "execution_count": null,
   "id": "c48ecf14-8c99-4480-9a0f-0ecf7c196742",
   "metadata": {},
   "outputs": [],
   "source": []
  },
  {
   "cell_type": "code",
   "execution_count": null,
   "id": "91a9ae4f-e035-4836-a328-133cbf300278",
   "metadata": {},
   "outputs": [],
   "source": [
    "# Create a new dataframe with location names and coordinates\n",
    "# coordinates_df = pd.DataFrame(coordinates, columns=['location', 'latitude', 'longitude'])\n",
    "coordinates_df = pd.DataFrame(coordinates, columns=['area_name', 'latitude', 'longitude'])\n",
    "\n",
    "coordinates_df.head()\n",
    "# Join the new dataframe with the original dataframe on the location column\n",
    "# real_estate_2022_bc_df = real_estate_2022_bc_df.merge(coordinates_df, on='location', how='left') # Add geolocation to the dataframe\n",
    "real_estate_2022_df = real_estate_2022_df.merge(coordinates_df, on='area_name', how='left') # Add geolocation to the dataframe"
   ]
  },
  {
   "cell_type": "code",
   "execution_count": null,
   "id": "b5c39c6a-2f90-4c83-96b3-dad57b66134e",
   "metadata": {},
   "outputs": [],
   "source": [
    "real_estate_2022_df.head()"
   ]
  },
  {
   "cell_type": "code",
   "execution_count": null,
   "id": "3803a1ad-de2e-44e6-8a64-33bac6db2ecc",
   "metadata": {},
   "outputs": [],
   "source": [
    "print(real_estate_2022_df.loc[real_estate_2022_df['latitude'] < 0])"
   ]
  },
  {
   "cell_type": "code",
   "execution_count": null,
   "id": "7c89cfed-b63c-4b2c-932d-4e34d1a331e1",
   "metadata": {},
   "outputs": [],
   "source": [
    "#temp = real_estate_2022_df.loc[df['area_name'] == 'VICTORIA', 'latitude'].values\n",
    "#real_estate_2022_df.loc[real_estate_2022_df['area_name'] == 'VICTORIA', 'latitude'] = real_estate_2022_df.loc[real_estate_2022_df['area_name'] == 'VICTORIA', 'longitude'].values\n",
    "#real_estate_2022_df.loc[real_estate_2022_df['area_name'] == 'VICTORIA', 'longitude'] = temp\n",
    "\n",
    "#temp = real_estate_2022_df.loc[real_estate_2022_df['area_name'] == 'VICTORIA', 'latitude'].values\n",
    "#real_estate_2022_df.loc[real_estate_2022_df['area_name'] == 'VICTORIA', 'latitude'] = real_estate_2022_df.loc[real_estate_2022_df['area_name'] == 'VICTORIA', 'longitude'].values\n",
    "#real_estate_2022_df.loc[real_estate_2022_df['area_name'] == 'VICTORIA', 'longitude'] = temp\n",
    "\n",
    "#temp = real_estate_2022_df.loc[real_estate_2022_df['area_name'] == 'GREATER_TORONTO', 'latitude'].values\n",
    "#real_estate_2022_df.loc[real_estate_2022_df['area_name'] == 'GREATER_TORONTO', 'latitude'] = real_estate_2022_df.loc[real_estate_2022_df['area_name'] == 'GREATER_TORONTO', 'longitude'].values\n",
    "#real_estate_2022_df.loc[real_estate_2022_df['area_name'] == 'GREATER_TORONTO', 'longitude'] = temp\n"
   ]
  },
  {
   "cell_type": "code",
   "execution_count": null,
   "id": "c06fa64e-3165-4b48-8c08-ab6c9768fabd",
   "metadata": {},
   "outputs": [],
   "source": [
    "print(real_estate_2022_df.loc[real_estate_2022_df['area_name'] == 'VICTORIA'])"
   ]
  },
  {
   "cell_type": "code",
   "execution_count": null,
   "id": "cc9ff7c0-087b-47c0-9879-128185df7372",
   "metadata": {},
   "outputs": [],
   "source": [
    "real_estate_2022_df = real_estate_2022_df[real_estate_2022_df.area_name != 'VICTORIA']"
   ]
  },
  {
   "cell_type": "code",
   "execution_count": null,
   "id": "4ef26724-516a-42dc-a633-0daa91e20552",
   "metadata": {},
   "outputs": [],
   "source": [
    "real_estate_2022_df = real_estate_2022_df[real_estate_2022_df.area_name != 'GREATER_TORONTO']"
   ]
  },
  {
   "cell_type": "code",
   "execution_count": null,
   "id": "622acf57-c05f-4d92-93f4-bacd2b1300dc",
   "metadata": {},
   "outputs": [],
   "source": [
    "real_estate_2022_df = real_estate_2022_df[real_estate_2022_df.area_name != 'AGGREGATE']"
   ]
  },
  {
   "cell_type": "code",
   "execution_count": null,
   "id": "68e27421-faee-4167-b627-ff7ac2266841",
   "metadata": {},
   "outputs": [],
   "source": [
    "# Data cleaning: Remove records whose geo coordination is not correct or no data.\n",
    "real_estate_2022_df = real_estate_2022_df[real_estate_2022_df.area_name != 'BANCROFT_AND_AREA']\n",
    "real_estate_2022_df = real_estate_2022_df[real_estate_2022_df.area_name != 'GUELPH_AND_DISTRICT']\n",
    "real_estate_2022_df = real_estate_2022_df[real_estate_2022_df.area_name != 'QUINTE_AND_DISTRICT']\n",
    "real_estate_2022_df = real_estate_2022_df[real_estate_2022_df.area_name != 'ST_JOHNS_NL']"
   ]
  },
  {
   "cell_type": "code",
   "execution_count": null,
   "id": "92323011-730f-4d49-bfe8-c85f0bc47465",
   "metadata": {},
   "outputs": [],
   "source": [
    "# Data cleaning: Remove records whose geo coordination is not correct or no data.\n",
    "real_estate_2022_df = real_estate_2022_df[real_estate_2022_df.area_name != 'QUEBEC_CMA']\n",
    "real_estate_2022_df = real_estate_2022_df[real_estate_2022_df.area_name != 'MONTREAL_CMA']\n",
    "real_estate_2022_df = real_estate_2022_df[real_estate_2022_df.area_name != 'LONDON_ST_THOMAS']\n",
    "real_estate_2022_df = real_estate_2022_df[real_estate_2022_df.area_name != 'BARRIE_AND_DISTRICT']\n",
    "real_estate_2022_df = real_estate_2022_df[real_estate_2022_df.area_name != 'KINGSTON_AND_AREA']\n",
    "real_estate_2022_df = real_estate_2022_df[real_estate_2022_df.area_name != 'CAMBRIDGE']"
   ]
  },
  {
   "cell_type": "code",
   "execution_count": null,
   "id": "057d3d8b-9985-439e-82cb-e7562247f0bc",
   "metadata": {},
   "outputs": [],
   "source": [
    "# Data cleaning: Remove records whose geo coordination is not correct or no data.\n",
    "real_estate_2022_df = real_estate_2022_df[real_estate_2022_df.area_name != 'HAMILTON_BURLINGTON']\n",
    "real_estate_2022_df = real_estate_2022_df[real_estate_2022_df.area_name != 'NORTHUMBERLAND_HILLS']\n",
    "real_estate_2022_df = real_estate_2022_df[real_estate_2022_df.area_name != 'LOWER_MAINLAND']"
   ]
  },
  {
   "cell_type": "code",
   "execution_count": null,
   "id": "3442954e-cd1e-449d-8ff1-eb12f53f905f",
   "metadata": {},
   "outputs": [],
   "source": [
    "real_estate_2022_df = real_estate_2022_df[real_estate_2022_df.area_name != 'HAMILTON_BURLINGTON']"
   ]
  },
  {
   "cell_type": "code",
   "execution_count": null,
   "id": "2c9f4069-f6b4-4c6d-be88-e8aa45260924",
   "metadata": {},
   "outputs": [],
   "source": [
    "print(real_estate_2022_df['Composite_Benchmark_SA'].max())\n",
    "print(real_estate_2022_df['Composite_Benchmark_SA'].min())"
   ]
  },
  {
   "cell_type": "code",
   "execution_count": null,
   "id": "b1a45e63-d57d-4457-be2a-f504c99b7087",
   "metadata": {},
   "outputs": [],
   "source": [
    "real_estate_2022_df.sort_values('latitude')"
   ]
  },
  {
   "cell_type": "code",
   "execution_count": null,
   "id": "dde81d4a-48d7-4dc7-87ef-6b0b827ad627",
   "metadata": {},
   "outputs": [],
   "source": [
    "import hvplot.pandas\n",
    "from pathlib import Path\n",
    "from panel.interact import interact\n",
    "from ipywidgets import interact, widgets\n",
    "import warnings\n",
    "from shapely.errors import ShapelyDeprecationWarning"
   ]
  },
  {
   "cell_type": "code",
   "execution_count": null,
   "id": "e737a751-7310-49b0-98f2-4f7f9652e4d8",
   "metadata": {},
   "outputs": [],
   "source": [
    "def my_function(x):\n",
    "    print(x)\n",
    "\n",
    "interact(my_function, x=widgets.IntSlider(min=0, max=1500000, step=1, value=0))"
   ]
  },
  {
   "cell_type": "code",
   "execution_count": null,
   "id": "b4c33f25-dfbb-4588-aacd-85341aab26b5",
   "metadata": {},
   "outputs": [],
   "source": [
    "# Prepare slider for \n",
    "# Use hvplot to create an interactive line plot of the average price per square foot\n",
    "# The plot should have a dropdown selector for the neighbourhood\n",
    "# Make dropdown menu with neighbourhood\n",
    "#list_of_neigbourhood = prices_by_year_by_neighbourhood[\"neighbourhood\"].unique()\n",
    "\n",
    "# This function returns selected home price as int\n",
    "#def my_real_estate_price(price):\n",
    "#    print(price)\n",
    "#    return price \n",
    "\n",
    "#interact(my_real_estate_price, price=widgets.IntSlider(min=200000, max=1500000, step=1, value=0))\n",
    "\n",
    "# This function create a list for dropdown menu and returns plot \n",
    "def real_estate_canada(real_estate_price):\n",
    "    selected_real_estate_2022_df = real_estate_2022_df.loc[real_estate_2022_df[\"Composite_Benchmark_SA\"] < real_estate_price]\n",
    "\n",
    "    if selected_real_estate_2022_df['Composite_Benchmark_SA'].nunique() > 10:\n",
    "        color = 'Composite_Benchmark_SA'\n",
    "    else:\n",
    "        color = None\n",
    "    \n",
    "    # Plot prices_square_foot_by_year with chosen neighbourhood.\n",
    "    # Inclued labels for the x- and y-axes, and a title.\n",
    "    selected_home_price_plot = selected_real_estate_2022_df.hvplot.points('longitude','latitude',xlabel='Longitude', ylabel='Latitude',color=color,cmap='magma',geo=True,size=real_estate_2022_df['Composite_Benchmark_SA']/1000,hover_cols='area_name',tiles='OSM',frame_width=1500, frame_height=1000, \n",
    "    title='Average Home price across Canada').opts(yformatter='%.0f')\n",
    "\n",
    "    \n",
    "    return selected_home_price_plot\n",
    "\n",
    "# This will show dropdown menu with plot line\n",
    "interact(real_estate_canada, real_estate_price=widgets.IntSlider(min=200000, max=1500000, step=1, value=0))"
   ]
  },
  {
   "cell_type": "code",
   "execution_count": null,
   "id": "15e9a16b-3fe0-44ef-b7d9-5e22f81eb3cf",
   "metadata": {},
   "outputs": [],
   "source": [
    "# This suppresses warning message\n",
    "warnings.filterwarnings(\"ignore\", category=ShapelyDeprecationWarning)\n",
    "\n",
    "# Create a plot real estate info across Canada\n",
    "#real_estate_2022_df.hvplot.points('longitude','latitude',xlabel='Longitude', ylabel='Latitude',geo=True,color='Composite_Benchmark_SA',size=50,hover_cols='area_name',tiles='OSM',frame_width=700, frame_height=500, \n",
    "#title='KEI CHAN',zoom=5,extents=[-141.0, 41.67655, -52.63696, 83.23324],).opts(yformatter='%.0f')\n",
    "real_estate_2022_df.hvplot.points('longitude','latitude',xlabel='Longitude', ylabel='Latitude',cmap='magma',geo=True,color='Composite_Benchmark_SA',size=real_estate_2022_df['Composite_Benchmark_SA']/1000,hover_cols='area_name',tiles='OSM',frame_width=1500, frame_height=1000, \n",
    "#real_estate_2022_df.hvplot.points('longitude','latitude',xlabel='Longitude', ylabel='Latitude',cmap='magma',geo=True,color='Composite_Benchmark_SA',size='Composite_Benchmark_SA',hover_cols='area_name',tiles='OSM',frame_width=1500, frame_height=1000, \n",
    "title='Average Home price across Canada').opts(yformatter='%.0f')\n",
    "#real_estate_2022_df.hvplot.points('longitude','latitude',xlabel='Longitude', ylabel='Latitude',geo=True,color='Composite_Benchmark_SA',size='Composite_Benchmark_SA',hover_cols='area_name',tiles='OSM', \n",
    "\n",
    "\n",
    "real_estate_2022_df.hvplot.points('longitude','latitude',xlabel='Longitude', ylabel='Latitude',cmap='magma',geo=True,color='Composite_Benchmark_SA',size=real_estate_2022_df['Composite_Benchmark_SA']/1000,hover_cols='area_name',tiles='OSM',frame_width=1500, frame_height=1000, \n",
    "title='Average Home price across Canada').opts(yformatter='%.0f')\n"
   ]
  },
  {
   "cell_type": "markdown",
   "id": "2827940c-d062-4701-821a-6bd0ddb1b293",
   "metadata": {},
   "source": [
    "## Section II Kei's code ==ends=="
   ]
  },
  {
   "cell_type": "markdown",
   "id": "7a72c0d5-7520-4d47-96a2-14f7ac6e8c49",
   "metadata": {},
   "source": [
    "## Romain's Section begins"
   ]
  },
  {
   "cell_type": "code",
   "execution_count": 17,
   "id": "ed2a79cd",
   "metadata": {},
   "outputs": [],
   "source": [
    "# Import libraries \n",
    "import math\n",
    "import matplotlib.pyplot as plt\n",
    "import pandas as pd"
   ]
  },
  {
   "cell_type": "code",
   "execution_count": 18,
   "id": "ead8cd8e-93f9-47be-8649-ea072fc9b1ae",
   "metadata": {},
   "outputs": [
    {
     "ename": "NameError",
     "evalue": "name 'canada_int_rate_df' is not defined",
     "output_type": "error",
     "traceback": [
      "\u001b[1;31m---------------------------------------------------------------------------\u001b[0m",
      "\u001b[1;31mNameError\u001b[0m                                 Traceback (most recent call last)",
      "Input \u001b[1;32mIn [20]\u001b[0m, in \u001b[0;36m<cell line: 2>\u001b[1;34m()\u001b[0m\n\u001b[0;32m      1\u001b[0m \u001b[38;5;66;03m# Create the bar plot\u001b[39;00m\n\u001b[1;32m----> 2\u001b[0m plt\u001b[38;5;241m.\u001b[39mbar(\u001b[43mcanada_int_rate_df\u001b[49m[\u001b[38;5;124m'\u001b[39m\u001b[38;5;124mYear\u001b[39m\u001b[38;5;124m'\u001b[39m], canada_int_rate_df[\u001b[38;5;124m'\u001b[39m\u001b[38;5;124mInterest Rate\u001b[39m\u001b[38;5;124m'\u001b[39m])\n\u001b[0;32m      4\u001b[0m \u001b[38;5;66;03m# Add labels and title\u001b[39;00m\n\u001b[0;32m      5\u001b[0m plt\u001b[38;5;241m.\u001b[39mxlabel(\u001b[38;5;124m'\u001b[39m\u001b[38;5;124mYear\u001b[39m\u001b[38;5;124m'\u001b[39m)\n",
      "\u001b[1;31mNameError\u001b[0m: name 'canada_int_rate_df' is not defined"
     ]
    }
   ],
   "source": [
    "# Read the CSV file\n",
    "canada_int_rate_df = pd.read_csv(\"canada_int_rate_df.csv\")\n",
    "\n",
    "# Create the bar plot\n",
    "plt.bar(canada_int_rate_df['Year'], canada_int_rate_df['Interest Rate'])\n",
    "\n",
    "# Add labels and title\n",
    "plt.xlabel('Year')\n",
    "plt.ylabel('Interest Rate')\n",
    "plt.title('Canada Interest Rates')\n",
    "\n",
    "# Show the plot\n",
    "plt.show()"
   ]
  },
  {
   "cell_type": "code",
   "execution_count": null,
   "id": "cb1dad43",
   "metadata": {},
   "outputs": [],
   "source": [
    "def mortgage_affordability(principal, interest_rate, term, monthly_debt_payments, gross_income, credit_score, rent_price):\n",
    "    # calculate the monthly interest rate\n",
    "    monthly_rate = interest_rate / 12\n",
    "    # calculate the number of payments\n",
    "    payments = term * 12\n",
    "    # calculate the monthly mortgage payment\n",
    "    monthly_mortgage_payment = principal * (monthly_rate * math.pow(1 + monthly_rate, payments)) / (math.pow(1 + monthly_rate, payments) - 1)\n",
    "    # calculate the total monthly debt payments\n",
    "    total_monthly_debt_payments = monthly_debt_payments + monthly_mortgage_payment\n",
    "    # calculate the debt-to-income ratio\n",
    "    dti = total_monthly_debt_payments / (gross_income/12)\n",
    "    # check if the dti ratio is less than 43% and credit score is above a certain threshold\n",
    "    if dti < 0.43 and credit_score >= 700:\n",
    "        return f\"Congratulations! You can afford a mortgage of ${principal}.\"\n",
    "    else:\n",
    "        return f\"I am sorry, but based on your income, credit score and the loan amount, you do not qualify for this loan but you can rent for ${rent_price} dollars.\"\n",
    "\n",
    "# Input variables\n",
    "principal = float(input(\"Enter the loan amount: \"))\n",
    "interest_rate = float(input(\"Enter the annual interest rate (as a decimal): \"))\n",
    "term = int(input(\"Enter the loan term in years: \"))\n",
    "monthly_debt_payments = float(input(\"Enter your monthly debt payments: \"))\n",
    "gross_income = float(input(\"Enter your gross annual income: \"))\n",
    "credit_score = int(input(\"Enter your credit score: \"))\n",
    "rent_price = float(input(\"Enter the monthly rent price: \"))\n",
    "\n",
    "# Call the function\n",
    "result = mortgage_affordability(principal, interest_rate, term, monthly_debt_payments, gross_income, credit_score, rent_price)\n",
    "\n",
    "# Print the result\n",
    "print(result)"
   ]
  },
  {
   "cell_type": "code",
   "execution_count": null,
   "id": "9b10a621-77a3-4681-a0c5-0fd341082b19",
   "metadata": {},
   "outputs": [],
   "source": []
  },
  {
   "cell_type": "code",
   "execution_count": null,
   "id": "a0500c1e-9194-456f-aea8-6fba88fa2a37",
   "metadata": {},
   "outputs": [],
   "source": []
  },
  {
   "cell_type": "code",
   "execution_count": null,
   "id": "47fe10dd-4dbf-4678-9f55-6ab9bbd67cd3",
   "metadata": {},
   "outputs": [],
   "source": []
  },
  {
   "cell_type": "code",
   "execution_count": null,
   "id": "b9a70429-0eb3-414c-90ae-048ebe2ff763",
   "metadata": {},
   "outputs": [],
   "source": []
  },
  {
   "cell_type": "code",
   "execution_count": null,
   "id": "fdd03dcb-9fb8-4712-8d6d-4a93f66376e2",
   "metadata": {},
   "outputs": [],
   "source": []
  },
  {
   "cell_type": "code",
   "execution_count": null,
   "id": "632776f1-7b2d-4f42-9d9d-90f9c7c875dd",
   "metadata": {},
   "outputs": [],
   "source": []
  },
  {
   "cell_type": "code",
   "execution_count": null,
   "id": "1bd4a26a-b57c-46c8-9650-70ca4818c5f6",
   "metadata": {},
   "outputs": [],
   "source": []
  },
  {
   "cell_type": "markdown",
   "id": "7f932d16",
   "metadata": {},
   "source": [
    "## Section II"
   ]
  },
  {
   "cell_type": "code",
   "execution_count": null,
   "id": "4143f84e",
   "metadata": {},
   "outputs": [],
   "source": []
  },
  {
   "cell_type": "code",
   "execution_count": null,
   "id": "d9ecec4f",
   "metadata": {},
   "outputs": [],
   "source": []
  },
  {
   "cell_type": "code",
   "execution_count": null,
   "id": "25b25e7f",
   "metadata": {},
   "outputs": [],
   "source": []
  },
  {
   "cell_type": "code",
   "execution_count": null,
   "id": "c968c5bc",
   "metadata": {},
   "outputs": [],
   "source": []
  },
  {
   "cell_type": "code",
   "execution_count": null,
   "id": "38973479",
   "metadata": {},
   "outputs": [],
   "source": []
  },
  {
   "cell_type": "code",
   "execution_count": null,
   "id": "40004231",
   "metadata": {},
   "outputs": [],
   "source": []
  },
  {
   "cell_type": "code",
   "execution_count": null,
   "id": "efb6b642",
   "metadata": {},
   "outputs": [],
   "source": []
  },
  {
   "cell_type": "markdown",
   "id": "d2089782",
   "metadata": {},
   "source": [
    "## Section III"
   ]
  },
  {
   "cell_type": "code",
   "execution_count": null,
   "id": "ee6f5dd2",
   "metadata": {},
   "outputs": [],
   "source": []
  },
  {
   "cell_type": "code",
   "execution_count": null,
   "id": "13f55ebf",
   "metadata": {},
   "outputs": [],
   "source": []
  },
  {
   "cell_type": "code",
   "execution_count": null,
   "id": "7b3740b3",
   "metadata": {},
   "outputs": [],
   "source": []
  },
  {
   "cell_type": "code",
   "execution_count": null,
   "id": "8395e29d",
   "metadata": {},
   "outputs": [],
   "source": []
  },
  {
   "cell_type": "code",
   "execution_count": null,
   "id": "fab950a4",
   "metadata": {},
   "outputs": [],
   "source": []
  },
  {
   "cell_type": "code",
   "execution_count": null,
   "id": "eeb91b81",
   "metadata": {},
   "outputs": [],
   "source": []
  },
  {
   "cell_type": "code",
   "execution_count": null,
   "id": "dc057863",
   "metadata": {},
   "outputs": [],
   "source": []
  },
  {
   "cell_type": "markdown",
   "id": "28da044c",
   "metadata": {},
   "source": [
    "## Section IV"
   ]
  },
  {
   "cell_type": "code",
   "execution_count": null,
   "id": "f2bb2c53",
   "metadata": {},
   "outputs": [],
   "source": []
  },
  {
   "cell_type": "code",
   "execution_count": null,
   "id": "6e915965",
   "metadata": {},
   "outputs": [],
   "source": []
  },
  {
   "cell_type": "code",
   "execution_count": null,
   "id": "724d6291",
   "metadata": {},
   "outputs": [],
   "source": []
  },
  {
   "cell_type": "code",
   "execution_count": null,
   "id": "9664adcb",
   "metadata": {},
   "outputs": [],
   "source": []
  },
  {
   "cell_type": "code",
   "execution_count": null,
   "id": "b8be9fa0",
   "metadata": {},
   "outputs": [],
   "source": []
  },
  {
   "cell_type": "code",
   "execution_count": null,
   "id": "f02c8b2d",
   "metadata": {},
   "outputs": [],
   "source": []
  },
  {
   "cell_type": "code",
   "execution_count": null,
   "id": "ea1b1103",
   "metadata": {},
   "outputs": [],
   "source": []
  },
  {
   "cell_type": "markdown",
   "id": "5be4d235",
   "metadata": {},
   "source": [
    "## Section V"
   ]
  },
  {
   "cell_type": "code",
   "execution_count": null,
   "id": "51d6ee90",
   "metadata": {},
   "outputs": [],
   "source": []
  },
  {
   "cell_type": "code",
   "execution_count": null,
   "id": "986463f2",
   "metadata": {},
   "outputs": [],
   "source": []
  },
  {
   "cell_type": "code",
   "execution_count": null,
   "id": "7f0a2ad6",
   "metadata": {},
   "outputs": [],
   "source": []
  },
  {
   "cell_type": "code",
   "execution_count": null,
   "id": "f13cf898",
   "metadata": {},
   "outputs": [],
   "source": []
  },
  {
   "cell_type": "code",
   "execution_count": null,
   "id": "1cf702bb",
   "metadata": {},
   "outputs": [],
   "source": []
  },
  {
   "cell_type": "code",
   "execution_count": null,
   "id": "d409fd17",
   "metadata": {},
   "outputs": [],
   "source": []
  },
  {
   "cell_type": "code",
   "execution_count": null,
   "id": "15cfc923",
   "metadata": {},
   "outputs": [],
   "source": []
  },
  {
   "cell_type": "markdown",
   "id": "428b7b2a",
   "metadata": {},
   "source": [
    "## Section VI"
   ]
  },
  {
   "cell_type": "code",
   "execution_count": null,
   "id": "dd8e4de3",
   "metadata": {},
   "outputs": [],
   "source": []
  },
  {
   "cell_type": "code",
   "execution_count": null,
   "id": "ffdecbea",
   "metadata": {},
   "outputs": [],
   "source": []
  },
  {
   "cell_type": "code",
   "execution_count": null,
   "id": "ceddc004",
   "metadata": {},
   "outputs": [],
   "source": []
  },
  {
   "cell_type": "code",
   "execution_count": null,
   "id": "ee01866d",
   "metadata": {},
   "outputs": [],
   "source": []
  },
  {
   "cell_type": "code",
   "execution_count": null,
   "id": "9b619215",
   "metadata": {},
   "outputs": [],
   "source": []
  },
  {
   "cell_type": "code",
   "execution_count": null,
   "id": "029608c5",
   "metadata": {},
   "outputs": [],
   "source": []
  }
 ],
 "metadata": {
  "kernelspec": {
   "display_name": "Python 3 (ipykernel)",
   "language": "python",
   "name": "python3"
  },
  "language_info": {
   "codemirror_mode": {
    "name": "ipython",
    "version": 3
   },
   "file_extension": ".py",
   "mimetype": "text/x-python",
   "name": "python",
   "nbconvert_exporter": "python",
   "pygments_lexer": "ipython3",
   "version": "3.9.12"
  }
 },
 "nbformat": 4,
 "nbformat_minor": 5
}
